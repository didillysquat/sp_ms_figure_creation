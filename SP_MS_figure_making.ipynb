{
 "cells": [
  {
   "cell_type": "markdown",
   "metadata": {},
   "source": [
    "### Creation of the SymPortal manuscripts's figures\n",
    "This code will be aimed at documenting how the figures for figure 3 were made. Specifically it will show how the following figures are made: \n",
    "1. 'raw seq abundance'  \n",
    "2. 'post-QC'"
   ]
  },
  {
   "cell_type": "markdown",
   "metadata": {},
   "source": [
    "#### 1. 'raw seq abundance' figure\n",
    "This figure will be created from __.names__ file that was created in [this](https://github.com/didillysquat/fastq_processing/blob/master/create_fastq_for_SP_example.ipynb) process."
   ]
  },
  {
   "cell_type": "markdown",
   "metadata": {},
   "source": [
    "__Do imports__"
   ]
  },
  {
   "cell_type": "code",
   "execution_count": null,
   "metadata": {},
   "outputs": [],
   "source": [
    "import matplotlib.pyplot as plt\n",
    "import os\n",
    "from collections import defaultdict\n",
    "from Bio import SeqIO\n",
    "import numpy\n",
    "import subprocess\n",
    "import pickle"
   ]
  },
  {
   "cell_type": "markdown",
   "metadata": {},
   "source": [
    "__Read in the .names file__"
   ]
  },
  {
   "cell_type": "code",
   "execution_count": null,
   "metadata": {},
   "outputs": [],
   "source": [
    "with open('/home/humebc/projects/SymPortalMS/making_example_data_set/SP_DEMO_DATA/unzipped/stability.trim.contigs.pcr.names') as f:\n",
    "    name_file = f.read().splitlines()"
   ]
  },
  {
   "cell_type": "markdown",
   "metadata": {},
   "source": [
    "__Identify which sequence are clade C and only work with these for the figure: using blastn__"
   ]
  },
  {
   "cell_type": "code",
   "execution_count": null,
   "metadata": {},
   "outputs": [],
   "source": [
    "# The first thing we need to do is to work out which of the representative sequences are clade C sequences\n",
    "# we will use blast to do this.\n",
    "# We will need the fasta that is associated with the .names file to use as input.\n",
    "\n",
    "# write out the .ncbirc file pointing towards the ITS2clade.fas\n",
    "ncbirc = ['[BLAST]', 'BLASTDB={}'.format('/home/humebc/phylogeneticSoftware/ncbi-blast-2.6.0+/ntdbdownload')]\n",
    "ncbirc_path = '/home/humebc/projects/SymPortalMS/.ncbirc'\n",
    "with open(ncbirc_path, 'w') as f:\n",
    "    for item in ncbirc:\n",
    "        f.write(\"{}\\n\".format(item))\n",
    "\n",
    "# setup the blast\n",
    "outputpath = '/home/humebc/projects/SymPortalMS/sym_clade.out'\n",
    "outputFmt = '6 qseqid sseqid'\n",
    "inputPath = '/home/humebc/projects/SymPortalMS/making_example_data_set' \\\n",
    "            '/SP_DEMO_DATA/unzipped/stability.trim.contigs.unique.rc.pcr.fasta'\n",
    "completedProcess = subprocess.run(\n",
    "    ['blastn', '-out', outputpath, '-outfmt', outputFmt, '-query', inputPath, '-db', 'ITS2Clade.fas',\n",
    "     '-max_target_seqs', '1', '-num_threads', '10'])\n",
    "\n",
    "\n",
    "# Read in blast output\n",
    "with open(outputpath, 'r') as f:\n",
    "    blast_output = f.read().splitlines()\n",
    "\n",
    "# get list of representative sequences that are clade C\n",
    "clade_C_rep_seqs = [line.split('\\t')[0] for line in blast_output if line.split('\\t')[1][5] == 'C']"
   ]
  },
  {
   "cell_type": "markdown",
   "metadata": {},
   "source": [
    "__Get a list of the representative sequences in the names file and sort these according to the numbe of sequencs they represent.__\n",
    "\n",
    "__Simultaneously generate a dictionary that associates each sequences to its representative sequence.__"
   ]
  },
  {
   "cell_type": "code",
   "execution_count": null,
   "metadata": {
    "scrolled": true
   },
   "outputs": [],
   "source": [
    "# create a dict that asociates each sequence to its representative sequecne in the .names file\n",
    "# at the same time use a default dict to get an ordered list of the representative sequences\n",
    "# in the order of most sequences representated first.\n",
    "# This will be the order in which we plot the sequences\n",
    "\n",
    "# Before generating from scratch, try to see if there is a pickled seq_to_rep_dict and sorted_rep_seq_list already\n",
    "# If generating from scratch, pickle once created to save time in future\n",
    "seq_to_rep_dict_path = '/home/humebc/projects/SymPortalMS/seq_to_rep_dict_path'\n",
    "sorted_rep_seq_list_path = '/home/humebc/projects/SymPortalMS/sorted_rep_seq_list'\n",
    "try:\n",
    "    seq_to_rep_dict = pickle.load(open(seq_to_rep_dict_path, 'rb'))\n",
    "    sorted_rep_seq_list = pickle.load(open(sorted_rep_seq_list_path, 'rb'))\n",
    "\n",
    "except:\n",
    "    seq_to_rep_dict = {}\n",
    "    rep_seq_default_dict = defaultdict(int)\n",
    "    for line in name_file:\n",
    "        if line.split('\\t')[0] in clade_C_rep_seqs:\n",
    "            rep_seq_default_dict[line.split('\\t')[0]] += len(line.split('\\t')[1].split(','))\n",
    "            # print('Populating {} sequences for the representative sequence: {}'.format(len(line.split('\\t')[1].split(',')), line.split('\\t')[0]))\n",
    "            temp_dict = {seq : line.split('\\t')[0] for seq in line.split('\\t')[1].split(',')}\n",
    "            seq_to_rep_dict.update(temp_dict)\n",
    "\n",
    "    sorted_rep_seq_list = sorted(rep_seq_default_dict, key=rep_seq_default_dict.__getitem__, reverse=True)\n",
    "\n",
    "\n",
    "    pickle.dump(seq_to_rep_dict, open(seq_to_rep_dict_path, 'wb+'))\n",
    "    pickle.dump(sorted_rep_seq_list, open(sorted_rep_seq_list_path, 'wb+'))"
   ]
  },
  {
   "cell_type": "markdown",
   "metadata": {},
   "source": [
    "__Read in list of samples in order that will look good graphically.__"
   ]
  },
  {
   "cell_type": "code",
   "execution_count": null,
   "metadata": {},
   "outputs": [],
   "source": [
    "# get a list of the samples in order that will look good graphically\n",
    "# we will order the samples according first to their species\n",
    "# secondly by the ITS2 type profile they contained\n",
    "# and thirdly by their sample name\n",
    "\n",
    "# read in the sample list genreated previousy\n",
    "with open('/home/humebc/projects/SymPortalMS/sample_order.txt') as f:\n",
    "    sample_order_list = f.read().splitlines()"
   ]
  },
  {
   "cell_type": "markdown",
   "metadata": {},
   "source": [
    "__Populate a list that will hold all of the plotting information__"
   ]
  },
  {
   "cell_type": "code",
   "execution_count": null,
   "metadata": {},
   "outputs": [],
   "source": [
    "# create the dict that will hold all of the info to be plotted\n",
    "# Initially this will be a 2D list. In each list we be a relative abund of each representative\n",
    "# sequence in the order of the sorted_rep_seq_list. These lists will be added in the order of the samples in\n",
    "# sample_order_list\n",
    "# this will then be transformed so that we have a list per representative sequence in the order of\n",
    "# sorted_rep_seq_list. Each list will then have an element which is the relabund of the seq in each sample\n",
    "# in the order of sample_order_list. This is the datastructure required for the matplot lib stacked bar\n",
    "# We will first try this non-multiprocessed but it may be very slow.\n",
    "\n",
    "# do the pickle check again\n",
    "plotting_info_holder_list_path = '/home/humebc/projects/SymPortalMS/plotting_info_holder_list'\n",
    "try:\n",
    "    plotting_info_holder_list = pickle.load(open(plotting_info_holder_list_path, 'rb'))\n",
    "except:\n",
    "    plotting_info_holder_list_to_transpose = []\n",
    "    for sample in sample_order_list:\n",
    "        print('Populating plotting_info_holder_list for sample: {}'.format(sample))\n",
    "        # create a counter dict to keep track of abundance of sequences\n",
    "        counter_dict = defaultdict(int)\n",
    "        counter_dict.update((rep_seq, 0) for rep_seq in sorted_rep_seq_list)\n",
    "        sample_fastq_path = '/home/humebc/projects/SymPortalMS/making_example_data_set/SP_DEMO_DATA/unzipped/{}.1_its2_only.fastq'.format(sample)\n",
    "        # use the SeqIO to easily parse through the fastq format rather than reinventing wheel\n",
    "        sample_fastq_seqs = list(SeqIO.parse(sample_fastq_path, \"fastq\"))\n",
    "\n",
    "        # for each sequence in the fastq add 1 to its represenatives value in the counter_dict\n",
    "        # get the representative sequence from the seq_to_rep_dict created earlier\n",
    "        for record in sample_fastq_seqs:\n",
    "            # only for clade C seqs\n",
    "            if record.description[:-2] in seq_to_rep_dict:\n",
    "                counter_dict[seq_to_rep_dict[record.description[:-2]]] += 1\n",
    "\n",
    "\n",
    "        # now create a list of the normalised abundances in order of sorted_rep_seq_list\n",
    "        tot_seqs = sum(counter_dict.values())\n",
    "        norm_abunds_for_sample = [counter_dict[rep_seq]/tot_seqs for rep_seq in sorted_rep_seq_list]\n",
    "\n",
    "        # now add this list to the the plotting_info_holder_list\n",
    "        plotting_info_holder_list_to_transpose.append(norm_abunds_for_sample)"
   ]
  },
  {
   "cell_type": "markdown",
   "metadata": {},
   "source": [
    "__Transpose the plot info 2D list so that it is in the correct stucutre for plotting__"
   ]
  },
  {
   "cell_type": "code",
   "execution_count": null,
   "metadata": {},
   "outputs": [],
   "source": [
    "# here we have the plotting_info_holder_list populated\n",
    "# we should now transpose it to be compatible with the matplotlib\n",
    "plotting_info_holder_list = list(map(list, zip(*plotting_info_holder_list_to_transpose)))\n",
    "pickle.dump(plotting_info_holder_list, open(plotting_info_holder_list_path, 'wb+'))"
   ]
  },
  {
   "cell_type": "markdown",
   "metadata": {},
   "source": [
    "__Now do the plotting__\n",
    "\n",
    "Rather than plot all 168000 sequences (which would not be visible) once we get past the most common 250 sequeces we generate random sequence frequencies after that to fill in the remainer of the space.\n",
    "\n",
    "N.B. This can be run all the way through but it is probably easiest to stop it at something like the 600th bar and then copy and paste the remainder of the stack in illustrator as these sequences are anonymous."
   ]
  },
  {
   "cell_type": "code",
   "execution_count": null,
   "metadata": {},
   "outputs": [],
   "source": [
    "%matplotlib inline"
   ]
  },
  {
   "cell_type": "code",
   "execution_count": null,
   "metadata": {},
   "outputs": [],
   "source": [
    "###### PLOTTING\n",
    "# the greys for plotting\n",
    "greyPalette = ['#D0CFD4', '#89888D', '#4A4A4C', '#8A8C82', '#D4D5D0', '#53544F']\n",
    "\n",
    "\n",
    "# Set up plot\n",
    "plt.figure(num=1, figsize=(8, 10), dpi=80)\n",
    "ax = plt.subplot(1, 1, 1)\n",
    "ax.set_ylim(bottom=0, top=1)\n",
    "\n",
    "ind = range(len(sample_order_list))\n",
    "width = 1\n",
    "\n",
    "# Counters to work out which grey we are on\n",
    "greyCounter = 0\n",
    "\n",
    "# The bottom for each sequence plot will be updated each time we plot\n",
    "bottom = [0 for smpl in sample_order_list]\n",
    "\n",
    "\n",
    "# Only plot the first 250 seqs as this is the majority of the volume\n",
    "# After that plot the rest of the volume as fixed height boxes\n",
    "# NB the greyFileHeight should be the same as the max value (or not smaller) of the max random generated\n",
    "greyFileHeight = 0.01\n",
    "for i in range(len(sorted_rep_seq_list)):\n",
    "    if i < 250:\n",
    "\n",
    "        #print('Plotting seq {} out of {}'.format(i, len(sorted_rep_seq_list)))\n",
    "\n",
    "        plotColour = greyPalette[greyCounter % 4]\n",
    "        greyCounter += 1\n",
    "\n",
    "        ax.bar(ind, plotting_info_holder_list[i], width, bottom=bottom, color=plotColour)\n",
    "        bottom = [L + M for L, M in zip(bottom, plotting_info_holder_list[i])]\n",
    "    # Change this back to a simple 'else' if you want to plot right the way through and get rid of the \n",
    "    # last else and break\n",
    "    # for purposes of demonstrating what this script does I have limited this to printing 500 seqs\n",
    "    #else:\n",
    "    elif i < 500:\n",
    "\n",
    "\n",
    "        #print('Plotting seq {} out of {}'.format(i, len(sorted_rep_seq_list)))\n",
    "        plotValuesList = []\n",
    "        for bValue in bottom:\n",
    "            if bValue < 100:\n",
    "                # If this is not the last bar then plot a standard bar\n",
    "                if bValue < 100 - greyFileHeight:\n",
    "                    plotValuesList.append(numpy.random.choice(numpy.arange(0.0001, 0.001, 0.0001),\n",
    "                                                              p=[0.1, 0.3, 0.3, 0.1, 0.1, 0.025, 0.025, 0.025,\n",
    "                                                                 0.025]))\n",
    "                # If we're onto the last bar for the sample, take it up to 100\n",
    "                elif bValue > 100 - greyFileHeight:\n",
    "                    plotValuesList.append(100 - bValue)\n",
    "            else:\n",
    "                plotValuesList.append(0)\n",
    "        if sum(plotValuesList) == 0:\n",
    "            break\n",
    "        # now plot\n",
    "\n",
    "        plotColour = greyPalette[greyCounter % 4]\n",
    "        greyCounter += 1\n",
    "\n",
    "        ax.bar(ind, plotValuesList, width, bottom=bottom, color=plotColour)\n",
    "        bottom = [L + M for L, M in zip(bottom, plotValuesList)]\n",
    "    else:\n",
    "        break\n",
    "\n",
    "# Here we should have it plotted and we'll just need to put the finishing touches to it.\n",
    "# uncomment to save\n",
    "#plt.savefig(\"/home/humebc/projects/SymPortalMS/fig_3_raw.svg\")\n",
    "plt.show()"
   ]
  },
  {
   "cell_type": "markdown",
   "metadata": {},
   "source": [
    "#### 2. 'post QC and MED' figure"
   ]
  },
  {
   "cell_type": "markdown",
   "metadata": {},
   "source": [
    "__Do imports__"
   ]
  },
  {
   "cell_type": "code",
   "execution_count": null,
   "metadata": {},
   "outputs": [],
   "source": [
    "import matplotlib.pyplot as plt\n",
    "import os\n",
    "from collections import defaultdict\n",
    "from Bio import SeqIO\n",
    "import numpy\n",
    "import pandas as pd"
   ]
  },
  {
   "cell_type": "markdown",
   "metadata": {},
   "source": [
    "__Read in the list of DIVs__ (these will be coloured)"
   ]
  },
  {
   "cell_type": "code",
   "execution_count": null,
   "metadata": {},
   "outputs": [],
   "source": [
    "# read in the list that contains the DIVs that were used to create the ITS2 types.\n",
    "# These will be coloured in the plot.\n",
    "with open('/home/humebc/projects/SymPortalMS/significantSeqs', 'r') as f:\n",
    "    significant_seqs_fasta_list = f.read().splitlines()\n",
    "\n",
    "significant_seqs_list = []\n",
    "for line in significant_seqs_fasta_list:\n",
    "    if line.startswith('>'):\n",
    "        significant_seqs_list.append(line[1:])"
   ]
  },
  {
   "cell_type": "markdown",
   "metadata": {},
   "source": [
    "__Read in the SymPortal ITS2 output that will be used to plot as pandas DataFrame__"
   ]
  },
  {
   "cell_type": "code",
   "execution_count": null,
   "metadata": {},
   "outputs": [],
   "source": [
    "# we will use a SymPortal output to make the graph\n",
    "# this will save us a lot of time.\n",
    "# we will import this as a pandas dataframe\n",
    "plotting_data_df = pd.read_csv('/home/humebc/projects/SymPortalMS/SP_output_for_figures/30_141.DIVs.absolute.txt',\n",
    "                                delimiter='\\t', header=0, index_col=0)"
   ]
  },
  {
   "cell_type": "markdown",
   "metadata": {},
   "source": [
    "__Change index (row) order of the df to match that of the ordered sample list__"
   ]
  },
  {
   "cell_type": "code",
   "execution_count": null,
   "metadata": {},
   "outputs": [],
   "source": [
    "# now change the order of the index of the df according to the predefined order (same as raw plot)\n",
    "# read in the sample list genreated previousy\n",
    "with open('/home/humebc/projects/SymPortalMS/sample_order.txt') as f:\n",
    "    sample_order_list = f.read().splitlines()\n",
    "\n",
    "plotting_data_df = plotting_data_df.reindex(sample_order_list)"
   ]
  },
  {
   "cell_type": "markdown",
   "metadata": {},
   "source": [
    "__Drop the columns that aren't going to be used for plotting__"
   ]
  },
  {
   "cell_type": "code",
   "execution_count": null,
   "metadata": {},
   "outputs": [],
   "source": [
    "# now drop the columns that contain the noName summaries and the QC info\n",
    "# the first of the columns we want to drop\n",
    "first_column_index = plotting_data_df.columns.get_loc(\"noName Clade A\")\n",
    "# last of the columns we want to drop\n",
    "last_columnn_index = plotting_data_df.columns.get_loc(\"post_med_unique\")\n",
    "plotting_data_df.drop(plotting_data_df.columns[first_column_index:last_columnn_index + 1], axis=1, inplace=True)\n",
    "\n",
    "# we also need to drop the colums that are not clade C seqs\n",
    "index_to_drop = []\n",
    "for seq_name in list(plotting_data_df):\n",
    "    if 'C' not in seq_name:\n",
    "        index_to_drop.append(plotting_data_df.columns.get_loc(seq_name))\n",
    "\n",
    "plotting_data_df.drop(plotting_data_df.columns[index_to_drop], axis=1, inplace=True)"
   ]
  },
  {
   "cell_type": "markdown",
   "metadata": {},
   "source": [
    "__Normalise the abundance of each sequence to that of the total sequence abundance for each sample__"
   ]
  },
  {
   "cell_type": "code",
   "execution_count": null,
   "metadata": {},
   "outputs": [],
   "source": [
    "# finally we need to normalise each of the seq abundances to the total seq abundances found in each sample\n",
    "# i.e. divide each cell by the sum of its row\n",
    "plotting_data_df = plotting_data_df.div(plotting_data_df.sum(axis=1), axis=0)"
   ]
  },
  {
   "cell_type": "markdown",
   "metadata": {},
   "source": [
    "We can now use this plotting_data_df to plot from"
   ]
  },
  {
   "cell_type": "markdown",
   "metadata": {},
   "source": [
    "__Assign a colour to each sequence; a unique colour if a DIV or grey if not__"
   ]
  },
  {
   "cell_type": "code",
   "execution_count": null,
   "metadata": {},
   "outputs": [],
   "source": [
    "# we can directly use the plotting_data_df for plotting\n",
    "# we will go column by column when plotting\n",
    "# therefore at this stage we have all of the info we need.\n",
    "# we just need to work out which of the sub bars should be coloured and what colour they should be\n",
    "\n",
    "\n",
    "# Colour palettes\n",
    "colourPalette = ['#E8AB52', '#5FA96E', '#9680D3', '#D8C542', '#D47070', '#59A6D4', '#D76FBC', '#F6724C',\n",
    "                 '#5FC2B6', '#80D1E4', '#6BD78A', '#B7D456']\n",
    "greyPalette = ['#D0CFD4', '#89888D', '#4A4A4C', '#8A8C82', '#D4D5D0', '#53544F']\n",
    "\n",
    "# create a seq to colour dictionary that we can use when plotting\n",
    "seq_to_colour_dict = {}\n",
    "colour_counter = 0\n",
    "grey_counter = 0\n",
    "\n",
    "# for each sequence\n",
    "for sequence_to_plot in list(plotting_data_df):\n",
    "    if sequence_to_plot in significant_seqs_list:\n",
    "        seq_to_colour_dict[sequence_to_plot] = colourPalette[colour_counter]\n",
    "        colour_counter += 1\n",
    "    else:\n",
    "        seq_to_colour_dict[sequence_to_plot] = greyPalette[grey_counter%6]\n",
    "        grey_counter += 1"
   ]
  },
  {
   "cell_type": "markdown",
   "metadata": {},
   "source": [
    "__Now plot column by column__"
   ]
  },
  {
   "cell_type": "code",
   "execution_count": null,
   "metadata": {},
   "outputs": [],
   "source": [
    "# we are now ready to plot\n",
    "plt.figure(num=1, figsize=(8, 10), dpi=80)\n",
    "ax = plt.subplot(1, 1, 1)\n",
    "ax.set_ylim(bottom=0, top=1)\n",
    "\n",
    "ind = range(len(sample_order_list))\n",
    "width = 1\n",
    "\n",
    "# The bottom for each sequence plot will be updated each time we plot\n",
    "bottom = [0 for smpl in sample_order_list]\n",
    "\n",
    "\n",
    "ordered_seq_list = list(plotting_data_df)\n",
    "for i in range(len(ordered_seq_list)):\n",
    "    seq_name_in_Q = ordered_seq_list[i]\n",
    "    # print('Plotting seq {} out of {}'.format(i, len(ordered_seq_list)))\n",
    "    ax.bar(ind, plotting_data_df[seq_name_in_Q], width, bottom=bottom, color=seq_to_colour_dict[seq_name_in_Q])\n",
    "    bottom = [L + M for L, M in zip(bottom, plotting_data_df[seq_name_in_Q])]\n",
    "\n",
    "\n",
    "# Here we should have it plotted and we'll just need to put the finishing touches to it.\n",
    "plt.savefig(\"/home/humebc/projects/SymPortalMS/fig_3_colour_090718.svg\")\n",
    "plt.show()"
   ]
  }
 ],
 "metadata": {
  "kernelspec": {
   "display_name": "Python 3",
   "language": "python",
   "name": "python3"
  },
  "language_info": {
   "codemirror_mode": {
    "name": "ipython",
    "version": 3
   },
   "file_extension": ".py",
   "mimetype": "text/x-python",
   "name": "python",
   "nbconvert_exporter": "python",
   "pygments_lexer": "ipython3",
   "version": "3.6.2"
  }
 },
 "nbformat": 4,
 "nbformat_minor": 2
}
