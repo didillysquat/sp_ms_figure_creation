{
 "cells": [
  {
   "cell_type": "markdown",
   "metadata": {},
   "source": [
    "### Creation of the SymPortal manuscript figures\n",
    "This notebook will document how the following figures were made: \n",
    "1. ['raw seq abundance' (Fig. 3 parts i)](#1.-'raw-seq-abundance'-figure)\n",
    "2. ['post-QC' (Fig. 3 parts ii)](#2.-'post-QC-and-MED'-figure)\n",
    "3. [psbAncr phylogenetic tree](#3.-psbAncr-phylogenetic-tree)\n",
    "4. [ordination plot](#4.-Ordination-plot)\n",
    "5. [All components of the multi clade theoretical analysis (Fig. 2)](#5.-The-components-of-figure-2-multi-clade-theoretical-analysis)\n",
    " * [Raw data plots](#Raw-data-plots)\n",
    " * [Clade separated raw plots](#Clade-separated-raw-plots)\n",
    " * [Post QC plots](#Post-QC-plots)\n",
    " * [ITS2 type profile plots clade separated](#ITS2-type-profile-plots-clade-separated)\n",
    " * [Final plot of clade combined ITS2 type profiles](#Final-plot-of-clade-combined-ITS2-type-profiles)"
   ]
  },
  {
   "cell_type": "markdown",
   "metadata": {},
   "source": [
    "#### 1. 'raw seq abundance' figure\n",
    "This figure will be created from __.names__ file that was created in [this](https://github.com/didillysquat/fastq_processing/blob/master/create_fastq_for_SP_example.ipynb) process."
   ]
  },
  {
   "cell_type": "markdown",
   "metadata": {},
   "source": [
    "__Do imports__"
   ]
  },
  {
   "cell_type": "code",
   "execution_count": 1,
   "metadata": {},
   "outputs": [],
   "source": [
    "import matplotlib.pyplot as plt\n",
    "import os\n",
    "from collections import defaultdict\n",
    "from Bio import SeqIO\n",
    "import numpy\n",
    "import subprocess\n",
    "import pickle"
   ]
  },
  {
   "cell_type": "markdown",
   "metadata": {},
   "source": [
    "__Read in the .names file__"
   ]
  },
  {
   "cell_type": "code",
   "execution_count": 2,
   "metadata": {},
   "outputs": [],
   "source": [
    "with open('/home/humebc/projects/SymPortalMS/making_example_data_set/SP_DEMO_DATA/unzipped/stability.trim.contigs.pcr.names') as f:\n",
    "    name_file = f.read().splitlines()"
   ]
  },
  {
   "cell_type": "markdown",
   "metadata": {},
   "source": [
    "__Identify which sequence are clade C and only work with these for the figure: using blastn__"
   ]
  },
  {
   "cell_type": "code",
   "execution_count": 3,
   "metadata": {},
   "outputs": [],
   "source": [
    "# The first thing we need to do is to work out which of the representative sequences are clade C sequences\n",
    "# we will use blast to do this.\n",
    "# We will need the fasta that is associated with the .names file to use as input.\n",
    "\n",
    "# write out the .ncbirc file pointing towards the ITS2clade.fas\n",
    "ncbirc = ['[BLAST]', 'BLASTDB={}'.format('/home/humebc/phylogeneticSoftware/ncbi-blast-2.6.0+/ntdbdownload')]\n",
    "ncbirc_path = '/home/humebc/projects/SymPortalMS/.ncbirc'\n",
    "with open(ncbirc_path, 'w') as f:\n",
    "    for item in ncbirc:\n",
    "        f.write(\"{}\\n\".format(item))\n",
    "\n",
    "# setup the blast\n",
    "outputpath = '/home/humebc/projects/SymPortalMS/sym_clade.out'\n",
    "outputFmt = '6 qseqid sseqid'\n",
    "inputPath = '/home/humebc/projects/SymPortalMS/making_example_data_set' \\\n",
    "            '/SP_DEMO_DATA/unzipped/stability.trim.contigs.unique.rc.pcr.fasta'\n",
    "completedProcess = subprocess.run(\n",
    "    ['blastn', '-out', outputpath, '-outfmt', outputFmt, '-query', inputPath, '-db', 'ITS2Clade.fas',\n",
    "     '-max_target_seqs', '1', '-num_threads', '10'])\n",
    "\n",
    "\n",
    "# Read in blast output\n",
    "with open(outputpath, 'r') as f:\n",
    "    blast_output = f.read().splitlines()\n",
    "\n",
    "# get list of representative sequences that are clade C\n",
    "clade_C_rep_seqs = [line.split('\\t')[0] for line in blast_output if line.split('\\t')[1][5] == 'C']"
   ]
  },
  {
   "cell_type": "code",
   "execution_count": 4,
   "metadata": {},
   "outputs": [
    {
     "name": "stdout",
     "output_type": "stream",
     "text": [
      "1_1101_8694_1429\tcladeC\r\n",
      "1_1101_20464_1640\tcladeC\r\n",
      "1_1101_15050_1838\tcladeC\r\n",
      "1_1101_13853_1857\tcladeC\r\n",
      "1_1101_14791_1878\tcladeC\r\n",
      "1_1101_9483_1902\tcladeC\r\n",
      "1_1101_7768_1926\tcladeC\r\n",
      "1_1101_11384_1993\tcladeC\r\n",
      "1_1101_10267_2057\tcladeC\r\n",
      "1_1101_19084_2185\tcladeC\r\n"
     ]
    }
   ],
   "source": [
    "!head  /home/humebc/projects/SymPortalMS/sym_clade.out"
   ]
  },
  {
   "cell_type": "markdown",
   "metadata": {},
   "source": [
    "__Get a list of the representative sequences in the names file and sort these according to the numbe of sequencs they represent.__\n",
    "\n",
    "__Simultaneously generate a dictionary that associates each sequences to its representative sequence.__"
   ]
  },
  {
   "cell_type": "code",
   "execution_count": 5,
   "metadata": {
    "scrolled": true
   },
   "outputs": [],
   "source": [
    "# create a dict that asociates each sequence to its representative sequecne in the .names file\n",
    "# at the same time use a default dict to get an ordered list of the representative sequences\n",
    "# in the order of most sequences representated first.\n",
    "# This will be the order in which we plot the sequences\n",
    "\n",
    "# Before generating from scratch, try to see if there is a pickled seq_to_rep_dict and sorted_rep_seq_list already\n",
    "# If generating from scratch, pickle once created to save time in future\n",
    "seq_to_rep_dict_path = '/home/humebc/projects/SymPortalMS/seq_to_rep_dict_path'\n",
    "sorted_rep_seq_list_path = '/home/humebc/projects/SymPortalMS/sorted_rep_seq_list'\n",
    "try:\n",
    "    seq_to_rep_dict = pickle.load(open(seq_to_rep_dict_path, 'rb'))\n",
    "    sorted_rep_seq_list = pickle.load(open(sorted_rep_seq_list_path, 'rb'))\n",
    "\n",
    "except:\n",
    "    seq_to_rep_dict = {}\n",
    "    rep_seq_default_dict = defaultdict(int)\n",
    "    for line in name_file:\n",
    "        if line.split('\\t')[0] in clade_C_rep_seqs:\n",
    "            rep_seq_default_dict[line.split('\\t')[0]] += len(line.split('\\t')[1].split(','))\n",
    "            # print('Populating {} sequences for the representative sequence: {}'.format(len(line.split('\\t')[1].split(',')), line.split('\\t')[0]))\n",
    "            temp_dict = {seq : line.split('\\t')[0] for seq in line.split('\\t')[1].split(',')}\n",
    "            seq_to_rep_dict.update(temp_dict)\n",
    "\n",
    "    sorted_rep_seq_list = sorted(rep_seq_default_dict, key=rep_seq_default_dict.__getitem__, reverse=True)\n",
    "\n",
    "\n",
    "    pickle.dump(seq_to_rep_dict, open(seq_to_rep_dict_path, 'wb+'))\n",
    "    pickle.dump(sorted_rep_seq_list, open(sorted_rep_seq_list_path, 'wb+'))"
   ]
  },
  {
   "cell_type": "markdown",
   "metadata": {},
   "source": [
    "__Read in list of samples in order that will look good graphically.__"
   ]
  },
  {
   "cell_type": "code",
   "execution_count": 6,
   "metadata": {},
   "outputs": [],
   "source": [
    "# get a list of the samples in order that will look good graphically\n",
    "# we will order the samples according first to their species\n",
    "# secondly by the ITS2 type profile they contained\n",
    "# and thirdly by their sample name\n",
    "\n",
    "# read in the sample list genreated previousy\n",
    "with open('/home/humebc/projects/SymPortalMS/sample_order.txt') as f:\n",
    "    sample_order_list = f.read().splitlines()"
   ]
  },
  {
   "cell_type": "markdown",
   "metadata": {},
   "source": [
    "__Populate a list that will hold all of the plotting information__"
   ]
  },
  {
   "cell_type": "markdown",
   "metadata": {},
   "source": [
    "__Transpose the plot info 2D list so that it is in the correct stucutre for plotting__"
   ]
  },
  {
   "cell_type": "code",
   "execution_count": 9,
   "metadata": {},
   "outputs": [],
   "source": [
    "# create the dict that will hold all of the info to be plotted\n",
    "# Initially this will be a 2D list. In each list we be a relative abund of each representative\n",
    "# sequence in the order of the sorted_rep_seq_list. These lists will be added in the order of the samples in\n",
    "# sample_order_list\n",
    "# this will then be transformed so that we have a list per representative sequence in the order of\n",
    "# sorted_rep_seq_list. Each list will then have an element which is the relabund of the seq in each sample\n",
    "# in the order of sample_order_list. This is the datastructure required for the matplot lib stacked bar\n",
    "# We will first try this non-multiprocessed but it may be very slow.\n",
    "\n",
    "# do the pickle check again\n",
    "plotting_info_holder_list_path = '/home/humebc/projects/SymPortalMS/plotting_info_holder_list'\n",
    "try:\n",
    "    plotting_info_holder_list = pickle.load(open(plotting_info_holder_list_path, 'rb'))\n",
    "except:\n",
    "    plotting_info_holder_list_to_transpose = []\n",
    "    for sample in sample_order_list:\n",
    "        print('Populating plotting_info_holder_list for sample: {}'.format(sample))\n",
    "        # create a counter dict to keep track of abundance of sequences\n",
    "        counter_dict = defaultdict(int)\n",
    "        counter_dict.update((rep_seq, 0) for rep_seq in sorted_rep_seq_list)\n",
    "        sample_fastq_path = '/home/humebc/projects/SymPortalMS/making_example_data_set/SP_DEMO_DATA/unzipped/{}.1_its2_only.fastq'.format(sample)\n",
    "        # use the SeqIO to easily parse through the fastq format rather than reinventing wheel\n",
    "        sample_fastq_seqs = list(SeqIO.parse(sample_fastq_path, \"fastq\"))\n",
    "\n",
    "        # for each sequence in the fastq add 1 to its represenatives value in the counter_dict\n",
    "        # get the representative sequence from the seq_to_rep_dict created earlier\n",
    "        for record in sample_fastq_seqs:\n",
    "            # only for clade C seqs\n",
    "            if record.description[:-2] in seq_to_rep_dict:\n",
    "                counter_dict[seq_to_rep_dict[record.description[:-2]]] += 1\n",
    "\n",
    "\n",
    "        # now create a list of the normalised abundances in order of sorted_rep_seq_list\n",
    "        tot_seqs = sum(counter_dict.values())\n",
    "        norm_abunds_for_sample = [counter_dict[rep_seq]/tot_seqs for rep_seq in sorted_rep_seq_list]\n",
    "\n",
    "        # now add this list to the the plotting_info_holder_list\n",
    "        plotting_info_holder_list_to_transpose.append(norm_abunds_for_sample)\n",
    "        # here we have the plotting_info_holder_list populated\n",
    "        \n",
    "        # we should now transpose it to be compatible with the matplotlib\n",
    "        plotting_info_holder_list = list(map(list, zip(*plotting_info_holder_list_to_transpose)))\n",
    "        pickle.dump(plotting_info_holder_list, open(plotting_info_holder_list_path, 'wb+'))"
   ]
  },
  {
   "cell_type": "markdown",
   "metadata": {},
   "source": [
    "__Now do the plotting__\n",
    "\n",
    "Rather than plot all 168000 sequences (which would not be visible) once we get past the most common 250 sequeces we generate random sequence frequencies after that to fill in the remainer of the space.\n",
    "\n",
    "N.B. This can be run all the way through but it is probably easiest to stop it at something like the 600th bar and then copy and paste the remainder of the stack in illustrator as these sequences are anonymous.\n",
    "N.B. To save time the below plotting script has been edited to stop after the 250th stack. This script can be modified to continue to completion easily."
   ]
  },
  {
   "cell_type": "code",
   "execution_count": 10,
   "metadata": {},
   "outputs": [],
   "source": [
    "%matplotlib inline"
   ]
  },
  {
   "cell_type": "code",
   "execution_count": 11,
   "metadata": {},
   "outputs": [
    {
     "data": {
      "image/png": "[encoded data removed]",
      "text/plain": [
       "<Figure size 640x800 with 1 Axes>"
      ]
     },
     "metadata": {},
     "output_type": "display_data"
    }
   ],
   "source": [
    "###### PLOTTING\n",
    "# the greys for plotting\n",
    "greyPalette = ['#D0CFD4', '#89888D', '#4A4A4C', '#8A8C82', '#D4D5D0', '#53544F']\n",
    "\n",
    "\n",
    "# Set up plot\n",
    "plt.figure(num=1, figsize=(8, 10), dpi=80)\n",
    "ax = plt.subplot(1, 1, 1)\n",
    "ax.set_ylim(bottom=0, top=1)\n",
    "\n",
    "ind = range(len(sample_order_list))\n",
    "width = 1\n",
    "\n",
    "# Counters to work out which grey we are on\n",
    "greyCounter = 0\n",
    "\n",
    "# The bottom for each sequence plot will be updated each time we plot\n",
    "bottom = [0 for smpl in sample_order_list]\n",
    "\n",
    "\n",
    "# Only plot the first 250 seqs as this is the majority of the volume\n",
    "# After that plot the rest of the volume as fixed height boxes\n",
    "# NB the greyFileHeight should be the same as the max value (or not smaller) of the max random generated\n",
    "greyFileHeight = 0.01\n",
    "for i in range(len(sorted_rep_seq_list)):\n",
    "    if i < 250:\n",
    "\n",
    "        #print('Plotting seq {} out of {}'.format(i, len(sorted_rep_seq_list)))\n",
    "\n",
    "        plotColour = greyPalette[greyCounter % 4]\n",
    "        greyCounter += 1\n",
    "\n",
    "        ax.bar(ind, plotting_info_holder_list[i], width, bottom=bottom, color=plotColour)\n",
    "        bottom = [L + M for L, M in zip(bottom, plotting_info_holder_list[i])]\n",
    "    # Change this back to a simple 'else' if you want to plot right the way through and get rid of the \n",
    "    # last else and break\n",
    "    # for purposes of demonstrating what this script does I have limited this to printing 250 seqs\n",
    "    #else:\n",
    "\n",
    "\n",
    "\n",
    "#         #print('Plotting seq {} out of {}'.format(i, len(sorted_rep_seq_list)))\n",
    "#         plotValuesList = []\n",
    "#         for bValue in bottom:\n",
    "#             if bValue < 100:\n",
    "#                 # If this is not the last bar then plot a standard bar\n",
    "#                 if bValue < 100 - greyFileHeight:\n",
    "#                     plotValuesList.append(numpy.random.choice(numpy.arange(0.0001, 0.001, 0.0001),\n",
    "#                                                               p=[0.1, 0.3, 0.3, 0.1, 0.1, 0.025, 0.025, 0.025,\n",
    "#                                                                  0.025]))\n",
    "#                 # If we're onto the last bar for the sample, take it up to 100\n",
    "#                 elif bValue > 100 - greyFileHeight:\n",
    "#                     plotValuesList.append(100 - bValue)\n",
    "#             else:\n",
    "#                 plotValuesList.append(0)\n",
    "#         if sum(plotValuesList) == 0:\n",
    "#             break\n",
    "#         # now plot\n",
    "\n",
    "#         plotColour = greyPalette[greyCounter % 4]\n",
    "#         greyCounter += 1\n",
    "\n",
    "#         ax.bar(ind, plotValuesList, width, bottom=bottom, color=plotColour)\n",
    "#         bottom = [L + M for L, M in zip(bottom, plotValuesList)]\n",
    "    else:\n",
    "        break\n",
    "\n",
    "# Here we should have it plotted and we'll just need to put the finishing touches to it.\n",
    "# uncomment to save\n",
    "#plt.savefig(\"/home/humebc/projects/SymPortalMS/fig_3_raw.svg\")\n",
    "plt.show()"
   ]
  },
  {
   "cell_type": "markdown",
   "metadata": {},
   "source": [
    "***"
   ]
  },
  {
   "cell_type": "markdown",
   "metadata": {},
   "source": [
    "#### 2. 'post QC and MED' figure"
   ]
  },
  {
   "cell_type": "markdown",
   "metadata": {},
   "source": [
    "__Do imports__"
   ]
  },
  {
   "cell_type": "code",
   "execution_count": 12,
   "metadata": {},
   "outputs": [],
   "source": [
    "import matplotlib.pyplot as plt\n",
    "import os\n",
    "from collections import defaultdict\n",
    "from Bio import SeqIO\n",
    "import numpy\n",
    "import pandas as pd"
   ]
  },
  {
   "cell_type": "markdown",
   "metadata": {},
   "source": [
    "__Read in the list of DIVs__ (these will be coloured)"
   ]
  },
  {
   "cell_type": "code",
   "execution_count": 13,
   "metadata": {},
   "outputs": [],
   "source": [
    "# read in the list that contains the DIVs that were used to create the ITS2 types.\n",
    "# These will be coloured in the plot.\n",
    "with open('/home/humebc/projects/SymPortalMS/significantSeqs', 'r') as f:\n",
    "    significant_seqs_fasta_list = f.read().splitlines()\n",
    "\n",
    "significant_seqs_list = []\n",
    "for line in significant_seqs_fasta_list:\n",
    "    if line.startswith('>'):\n",
    "        significant_seqs_list.append(line[1:])"
   ]
  },
  {
   "cell_type": "markdown",
   "metadata": {},
   "source": [
    "__Read in the SymPortal ITS2 output that will be used to plot as pandas DataFrame__"
   ]
  },
  {
   "cell_type": "code",
   "execution_count": 14,
   "metadata": {},
   "outputs": [],
   "source": [
    "# we will use a SymPortal output to make the graph\n",
    "# this will save us a lot of time.\n",
    "# we will import this as a pandas dataframe\n",
    "plotting_data_df = pd.read_csv('/home/humebc/projects/SymPortalMS/SP_output_for_figures/30_141.DIVs.absolute.txt',\n",
    "                                delimiter='\\t', header=0, index_col=0)"
   ]
  },
  {
   "cell_type": "markdown",
   "metadata": {},
   "source": [
    "__Change index (row) order of the df to match that of the ordered sample list__"
   ]
  },
  {
   "cell_type": "code",
   "execution_count": 15,
   "metadata": {},
   "outputs": [],
   "source": [
    "# now change the order of the index of the df according to the predefined order (same as raw plot)\n",
    "# read in the sample list genreated previousy\n",
    "with open('/home/humebc/projects/SymPortalMS/sample_order.txt') as f:\n",
    "    sample_order_list = f.read().splitlines()\n",
    "\n",
    "plotting_data_df = plotting_data_df.reindex(sample_order_list)"
   ]
  },
  {
   "cell_type": "markdown",
   "metadata": {},
   "source": [
    "__Drop the columns that aren't going to be used for plotting__"
   ]
  },
  {
   "cell_type": "code",
   "execution_count": 16,
   "metadata": {},
   "outputs": [],
   "source": [
    "# now drop the columns that contain the noName summaries and the QC info\n",
    "# the first of the columns we want to drop\n",
    "first_column_index = plotting_data_df.columns.get_loc(\"noName Clade A\")\n",
    "# last of the columns we want to drop\n",
    "last_columnn_index = plotting_data_df.columns.get_loc(\"post_med_unique\")\n",
    "plotting_data_df.drop(plotting_data_df.columns[first_column_index:last_columnn_index + 1], axis=1, inplace=True)\n",
    "\n",
    "# we also need to drop the colums that are not clade C seqs\n",
    "index_to_drop = []\n",
    "for seq_name in list(plotting_data_df):\n",
    "    if 'C' not in seq_name:\n",
    "        index_to_drop.append(plotting_data_df.columns.get_loc(seq_name))\n",
    "\n",
    "plotting_data_df.drop(plotting_data_df.columns[index_to_drop], axis=1, inplace=True)"
   ]
  },
  {
   "cell_type": "markdown",
   "metadata": {},
   "source": [
    "__Normalise the abundance of each sequence to that of the total sequence abundance for each sample__"
   ]
  },
  {
   "cell_type": "code",
   "execution_count": 19,
   "metadata": {},
   "outputs": [],
   "source": [
    "# finally we need to normalise each of the seq abundances to the total seq abundances found in each sample\n",
    "# i.e. divide each cell by the sum of its row\n",
    "plotting_data_df = plotting_data_df.div(plotting_data_df.sum(axis=1), axis=0)"
   ]
  },
  {
   "cell_type": "markdown",
   "metadata": {},
   "source": [
    "We can now use this plotting_data_df to plot from"
   ]
  },
  {
   "cell_type": "markdown",
   "metadata": {},
   "source": [
    "__Assign a colour to each sequence; a unique colour if a DIV or grey if not__"
   ]
  },
  {
   "cell_type": "code",
   "execution_count": 20,
   "metadata": {},
   "outputs": [],
   "source": [
    "# we can directly use the plotting_data_df for plotting\n",
    "# we will go column by column when plotting\n",
    "# therefore at this stage we have all of the info we need.\n",
    "# we just need to work out which of the sub bars should be coloured and what colour they should be\n",
    "\n",
    "\n",
    "# Colour palettes\n",
    "colourPalette = ['#E8AB52', '#5FA96E', '#9680D3', '#D8C542', '#D47070', '#59A6D4', '#D76FBC', '#F6724C',\n",
    "                 '#5FC2B6', '#80D1E4', '#6BD78A', '#B7D456']\n",
    "greyPalette = ['#D0CFD4', '#89888D', '#4A4A4C', '#8A8C82', '#D4D5D0', '#53544F']\n",
    "\n",
    "# create a seq to colour dictionary that we can use when plotting\n",
    "seq_to_colour_dict = {}\n",
    "colour_counter = 0\n",
    "grey_counter = 0\n",
    "\n",
    "# for each sequence\n",
    "for sequence_to_plot in list(plotting_data_df):\n",
    "    if sequence_to_plot in significant_seqs_list:\n",
    "        seq_to_colour_dict[sequence_to_plot] = colourPalette[colour_counter]\n",
    "        colour_counter += 1\n",
    "    else:\n",
    "        seq_to_colour_dict[sequence_to_plot] = greyPalette[grey_counter%6]\n",
    "        grey_counter += 1"
   ]
  },
  {
   "cell_type": "markdown",
   "metadata": {},
   "source": [
    "__Now plot column by column__"
   ]
  },
  {
   "cell_type": "code",
   "execution_count": 21,
   "metadata": {},
   "outputs": [
    {
     "data": {
      "image/png": "[encoded data removed]",
      "text/plain": [
       "<Figure size 640x800 with 1 Axes>"
      ]
     },
     "metadata": {},
     "output_type": "display_data"
    }
   ],
   "source": [
    "# we are now ready to plot\n",
    "plt.figure(num=1, figsize=(8, 10), dpi=80)\n",
    "ax = plt.subplot(1, 1, 1)\n",
    "ax.set_ylim(bottom=0, top=1)\n",
    "\n",
    "ind = range(len(sample_order_list))\n",
    "width = 1\n",
    "\n",
    "# The bottom for each sequence plot will be updated each time we plot\n",
    "bottom = [0 for smpl in sample_order_list]\n",
    "\n",
    "\n",
    "ordered_seq_list = list(plotting_data_df)\n",
    "for i in range(len(ordered_seq_list)):\n",
    "    seq_name_in_Q = ordered_seq_list[i]\n",
    "    # print('Plotting seq {} out of {}'.format(i, len(ordered_seq_list)))\n",
    "    ax.bar(ind, plotting_data_df[seq_name_in_Q], width, bottom=bottom, color=seq_to_colour_dict[seq_name_in_Q])\n",
    "    bottom = [L + M for L, M in zip(bottom, plotting_data_df[seq_name_in_Q])]\n",
    "\n",
    "\n",
    "# Here we should have it plotted and we'll just need to put the finishing touches to it.\n",
    "# plt.savefig(\"/home/humebc/projects/SymPortalMS/fig_3_colour_090718.svg\")\n",
    "plt.show()"
   ]
  },
  {
   "cell_type": "markdown",
   "metadata": {},
   "source": [
    "***"
   ]
  },
  {
   "cell_type": "markdown",
   "metadata": {},
   "source": [
    "#### 3. psbAncr phylogenetic tree"
   ]
  },
  {
   "cell_type": "markdown",
   "metadata": {},
   "source": [
    "The Smith et al 2017 metahaplotype paper in ISMEJ that this data is from has PsbA fasta files associated with it in the supplementary materials. There is a fasta file for each sample in which there are multiple sequences for each sample. To make the PsbA tree I created a consensus sequence for each of the samples. I then aligned and made an ML phylogeny. The data processing aspect of this is documented here. The model selection and ML tree generation was completed in MEGA 7.0."
   ]
  },
  {
   "cell_type": "markdown",
   "metadata": {},
   "source": [
    "__Imports__"
   ]
  },
  {
   "cell_type": "code",
   "execution_count": 22,
   "metadata": {},
   "outputs": [],
   "source": [
    "import matplotlib.pyplot as plt\n",
    "import os\n",
    "from collections import defaultdict\n",
    "import subprocess\n",
    "import numpy\n",
    "import pickle\n",
    "from plumbum import local\n",
    "import random\n",
    "from Bio import SeqIO\n",
    "import pandas as pd\n",
    "from multiprocessing import Queue, Process, Manager\n",
    "from Bio.Align import AlignInfo\n",
    "import Bio.AlignIO"
   ]
  },
  {
   "cell_type": "markdown",
   "metadata": {},
   "source": [
    "__Get list of fasta files to process__"
   ]
  },
  {
   "cell_type": "code",
   "execution_count": null,
   "metadata": {},
   "outputs": [],
   "source": [
    "''' The aim of this method is to make a phylgoentic tree of the samples from Ed's study using the psba seqs.\n",
    "    We will work with the psba fastas that he has in the dryad repo from his project\n",
    "    https://datadryad.org/resource/doi:10.5061/dryad.h6s54.\n",
    "    We should go file by file and read in the sequences using Bio.AlignIO.read()\n",
    "    Then:\n",
    "    from Bio.Align import AlignInfo\n",
    "    summary_align = AlignInfo.SummaryInfo(alignment)\n",
    "    we can then calculate a rough consensus sequence from this summary object\n",
    "    consensus = summary_align.dumb_consensus()\n",
    "    '''\n",
    "\n",
    "\n",
    "# working directory with the fasta files of the psba sequences in them\n",
    "wkd = '/home/humebc/projects/SymPortalMS/making_example_data_set/SP_DEMO_DATA/psbA_processing'\n",
    "\n",
    "# get a list of the fasta files\n",
    "list_of_filenames = []\n",
    "for (dirpath, dirnames, filenames) in os.walk(wkd):\n",
    "    list_of_filenames.extend([fasta_file for fasta_file in filenames if '.fasta' in fasta_file])\n",
    "    break"
   ]
  },
  {
   "cell_type": "markdown",
   "metadata": {},
   "source": [
    "__Set up MPing__"
   ]
  },
  {
   "cell_type": "code",
   "execution_count": null,
   "metadata": {},
   "outputs": [],
   "source": [
    "# setup MP\n",
    "# Create the queues that will hold the cc information\n",
    "taskQueue = Queue()\n",
    "\n",
    "# output queue to put the dictionaries that will make the fasta and name files\n",
    "output_manager = Manager()\n",
    "output_manager_list = output_manager.list()\n",
    "\n",
    "# populate the input queue\n",
    "for file_name in list_of_filenames:\n",
    "    taskQueue.put(file_name)\n",
    "\n",
    "num_proc = 20\n",
    "\n",
    "# place the stop cues\n",
    "for n in range(num_proc):\n",
    "    taskQueue.put('STOP')\n",
    "\n",
    "allProcesses = []"
   ]
  },
  {
   "cell_type": "markdown",
   "metadata": {},
   "source": [
    "__Create the worker that will get the consenus for each fasta file__"
   ]
  },
  {
   "cell_type": "code",
   "execution_count": null,
   "metadata": {},
   "outputs": [],
   "source": [
    "def consensus_worker(input, output_list, wkd):\n",
    "    for fasta_filename in iter(input.get, 'STOP'):\n",
    "        print('Getting consensus for {}'.format(fasta_filename))\n",
    "        alignment_object = Bio.AlignIO.read('{}/{}'.format(wkd, fasta_filename), 'fasta')\n",
    "        summary_object = AlignInfo.SummaryInfo(alignment_object)\n",
    "        consensus = summary_object.dumb_consensus()\n",
    "        output_list.append(('>{}'.format(fasta_filename), str(consensus)))"
   ]
  },
  {
   "cell_type": "markdown",
   "metadata": {},
   "source": [
    "__Run the MP and wait for all processes to finish__"
   ]
  },
  {
   "cell_type": "code",
   "execution_count": null,
   "metadata": {},
   "outputs": [],
   "source": [
    "    for n in range(num_proc):\n",
    "        p = Process(target=consensus_worker,\n",
    "                    args=(taskQueue, output_manager_list, wkd))\n",
    "        allProcesses.append(p)\n",
    "        p.start()\n",
    "\n",
    "    # wait for the processes to finish before processing the output list\n",
    "    for p in allProcesses:\n",
    "        p.join()"
   ]
  },
  {
   "cell_type": "markdown",
   "metadata": {},
   "source": [
    "__Put the outputted consesnsus sequences into a single fasta file that can be aligned and used for tree generation__"
   ]
  },
  {
   "cell_type": "code",
   "execution_count": null,
   "metadata": {},
   "outputs": [],
   "source": [
    "# process the output files from the MP which will be tuples of the sequence name and sequence\n",
    "    consensus_sequence_fasta = []\n",
    "    for tup_fasta_info in list(output_manager_list):\n",
    "        consensus_sequence_fasta.extend([tup_fasta_info[0], tup_fasta_info[1]])\n",
    "\n",
    "\n",
    "    # Here we should ahve the consensus_seqeunce_fasta popuated and we can now write it out\n",
    "    with open('{}/{}'.format(wkd, 'consensus_psbs.fasta'), 'w') as f:\n",
    "        for line in consensus_sequence_fasta:\n",
    "            f.write('{}\\n'.format(line))"
   ]
  },
  {
   "cell_type": "markdown",
   "metadata": {},
   "source": [
    "__The rest of the processing was completed directly in MEGA 7.0__\n",
    "***"
   ]
  },
  {
   "cell_type": "markdown",
   "metadata": {},
   "source": [
    "#### 4. Ordination plot"
   ]
  },
  {
   "cell_type": "code",
   "execution_count": 2,
   "metadata": {},
   "outputs": [
    {
     "data": {
      "image/png": "[encoded data removed]",
      "text/plain": [
       "<Figure size 432x288 with 1 Axes>"
      ]
     },
     "metadata": {},
     "output_type": "display_data"
    }
   ],
   "source": [
    "# read in the .csv as pandas array\n",
    "plot_info_df = pd.read_csv('/home/humebc/phylogeneticSoftware/SymPortal_interim_250318/outputs/ordination/141/between_samples/mothur/C/PCoA_coords.csv', header=0, index_col=0)\n",
    "\n",
    "# colours\n",
    "colour_list = []\n",
    "for smp in list(plot_info_df.index)[:-1]:\n",
    "    if str(smp).startswith('A'):\n",
    "        colour_list.append('black')\n",
    "    elif str(smp).startswith('C'):\n",
    "        colour_list.append('green')\n",
    "    else:\n",
    "        colour_list.append('blue')\n",
    "\n",
    "# plot the first and second columns\n",
    "plt.scatter(plot_info_df['PC1'][:-1], plot_info_df['PC2'][:-1], c=colour_list)\n",
    "plt.xlabel('PC1 46%')\n",
    "plt.ylabel('PC2 39%')\n",
    "plt.text(0.1, -0.55, 'Acropora spp.', style='italic')\n",
    "plt.text(0.2, 0.1, 'Cyphastrea spp.', style='italic')\n",
    "plt.text(-0.38, 0.2, 'Platygyra spp.', style='italic')\n",
    "plt.text(plot_info_df['PC1']['A08'] + 0.025, plot_info_df['PC2']['A08'], 'A08')\n",
    "plt.savefig('/home/humebc/projects/SymPortalMS/ordination_110718.svg', format='svg')\n",
    "plt.show()"
   ]
  },
  {
   "cell_type": "markdown",
   "metadata": {},
   "source": [
    "#### 5. The components of figure 2 multi clade theoretical analysis"
   ]
  },
  {
   "cell_type": "markdown",
   "metadata": {},
   "source": [
    "__Imports__"
   ]
  },
  {
   "cell_type": "code",
   "execution_count": 1,
   "metadata": {},
   "outputs": [],
   "source": [
    "import matplotlib.pyplot as plt\n",
    "import os\n",
    "from collections import defaultdict\n",
    "import subprocess\n",
    "import numpy\n",
    "import pickle\n",
    "from plumbum import local\n",
    "import random\n",
    "from Bio import SeqIO\n",
    "import pandas as pd\n",
    "from multiprocessing import Queue, Process, Manager\n",
    "from Bio.Align import AlignInfo\n",
    "import Bio.AlignIO"
   ]
  },
  {
   "cell_type": "markdown",
   "metadata": {},
   "source": [
    "The aim of this function will be to generate figure two. It will have a type class and a sample class. Each sample will be generated with the same amount of the same types each time. Samples will be a mix of clade A, C and D types but mainly, C. We will actually need to make about 8 differnt plots for this figure.\n",
    "\n",
    "* 1 - the raw dataplot\n",
    "* 2, 3, 4) the cladaly separated raw dataplots\n",
    "* 5, 6, 7) the post QC and MED plots of reach of the clades\n",
    "* 8, 9, 10)  the predicted ITS2 type profiles for each clade\n",
    "* 11 - the reconstructed output which is the type profiles for each clade combined in the single sample plot"
   ]
  },
  {
   "cell_type": "markdown",
   "metadata": {},
   "source": [
    "Because the types and samples we use here are theoretical we have two classes:\n",
    "* virtual_sample\n",
    "* virtual_ITS2_type_profile\n",
    "We use these to generate the data so that it is consistent each time\n",
    "\n",
    "__We must define these classes__"
   ]
  },
  {
   "cell_type": "markdown",
   "metadata": {},
   "source": [
    "__virtual_sample__"
   ]
  },
  {
   "cell_type": "code",
   "execution_count": 3,
   "metadata": {},
   "outputs": [],
   "source": [
    "class virtual_sample():\n",
    "    ''' The virtual sample will be generated simply by inputing a dict which will be the name of a type\n",
    "    and the percentage that we want this sample to contain of that type.'''\n",
    "\n",
    "\n",
    "    def __init__(self, sample_name, type_abundance_dict, sequencing_depth):\n",
    "        self.name = sample_name\n",
    "        self.sequencing_depth = sequencing_depth\n",
    "        self.type_abundance_dict = type_abundance_dict\n",
    "        self.list_of_ITS2_type_objects = [virtual_ITS2_type_profile(type_name) for type_name, type_abund in self.type_abundance_dict.items()]\n",
    "        # Generate the absolute sequence abundances both raw and post-qc and MED\n",
    "        # These get saved to the ITS2_type_profile instances\n",
    "        self.generate_and_assign_raw_seqs_to_samples_types()\n",
    "        self.generate_and_assign_post_qc_seqs_to_samples_types()\n",
    "\n",
    "\n",
    "    def __str__(self):\n",
    "        return self.name    \n",
    "\n",
    "    # returns the counts of sequences in a dict of sequence to counts\n",
    "    # This will work on the assumption that there is a read depth of 1000 seqs\n",
    "    def generate_and_assign_raw_seqs_to_samples_types(self):\n",
    "        ''' For each of the types, simply multiply the relative abundances by the sequencing_depth'''\n",
    "        for i in range(len(self.list_of_ITS2_type_objects)):\n",
    "            raw_seq_absolute_abundances = []\n",
    "            for seq_tup in self.list_of_ITS2_type_objects[i].seq_abund_profile:\n",
    "                seq_name, rel_abund = seq_tup[0], seq_tup[1]\n",
    "                absolute_abundance_of_seq = rel_abund * self.sequencing_depth * self.type_abundance_dict[self.list_of_ITS2_type_objects[i].name]\n",
    "                raw_seq_absolute_abundances.append((seq_name, absolute_abundance_of_seq))\n",
    "            self.list_of_ITS2_type_objects[i].raw_seq_abs_abundances = {seq_name : seq_abund for seq_name, seq_abund in raw_seq_absolute_abundances}\n",
    "\n",
    "    def generate_and_assign_post_qc_seqs_to_samples_types(self):\n",
    "        ''' The purpose of this is to make the DIV raw abundances grow slightly to simulate the sequences going\n",
    "        through the MED and QC process. In reality we would also lose sequences but we are not going to take this\n",
    "        into account here. we are only bothered about giving the impression visually that MED and qc has occured.\n",
    "        As such we will increase each of the DIV raw abundaces by a fixed amount and then regenerate the\n",
    "        non-DIV abundances to make up the remainer of the sequences. To make this realistic, when we recalculate the\n",
    "        abundances for the non DIV sequences we should make sure that we use much larger percentages so that we end\n",
    "        up with fewer, better represented non_DIV seqs that will represent the MED nodes.\n",
    "        We basically need to 1/4 the proportion of sequences that are non-DIV. We should work out the proportion\n",
    "        that we should be gaining and add this onto the abundances of the DIVs'''\n",
    "\n",
    "        # For each of the types in the samples\n",
    "\n",
    "        for i in range(len(self.list_of_ITS2_type_objects)):\n",
    "            # Firstly go through and identify how much of the types rel abundances are taken up by non-DIVs\n",
    "            current_total_DIV_proportion = 0\n",
    "            for j in range(len(self.list_of_ITS2_type_objects[i].seq_abund_profile)): # for each seq, abund pair\n",
    "                seq_name, seq_abund = self.list_of_ITS2_type_objects[i].seq_abund_profile[j]\n",
    "                if 'Unk' not in seq_name: # then this is a DIV seq\n",
    "                    current_total_DIV_proportion += seq_abund\n",
    "            current_total_non_DIV_proportion = 1 - current_total_DIV_proportion\n",
    "\n",
    "            # Divide this by 4. Multiply by 3. This is the relproportions total that we can add to the DIV abundances\n",
    "            # We should add this abundance to the current abundances in proportion to the DIVs current abundances\n",
    "            proportion_of_non_DIV_seqs_to_collapse_into_DIVs = .75 * current_total_non_DIV_proportion\n",
    "\n",
    "            # calculate the abundance currently taken up by the DIVs.\n",
    "            # Then for each DIV in the type, add the total relproportion to be redistributed * the relabundance of the\n",
    "            # DIV / total abundances taken up by the div). THis will then be the new absolute abundance of the sequence\n",
    "\n",
    "            MED_adjusted_DIV_abundances = []\n",
    "            DIV_adjusted_rel_abund_total = 0\n",
    "            for j in range(len(self.list_of_ITS2_type_objects[i].seq_abund_profile)): # for each seq, abund pair\n",
    "                seq_name, seq_abund = self.list_of_ITS2_type_objects[i].seq_abund_profile[j]\n",
    "                # Only do this for the DIVs\n",
    "                if 'Unk' not in seq_name:\n",
    "                    adjusted_rel_abund = seq_abund + (proportion_of_non_DIV_seqs_to_collapse_into_DIVs * (seq_abund/current_total_DIV_proportion))\n",
    "                    DIV_adjusted_rel_abund_total += adjusted_rel_abund\n",
    "                    MED_adjusted_DIV_abundances.append((seq_name, adjusted_rel_abund))\n",
    "\n",
    "            # Then we add up these new abundances and carry them into a new generate MED non-DIV samples\n",
    "            # use the same distributions as used previously to genreate non-DIV samples but this time increase them slightly\n",
    "            # once these have been calcualted add them to the types post_qc_abs_aundances parameter.\n",
    "            total = DIV_adjusted_rel_abund_total\n",
    "            seqNameCounter = 0\n",
    "            while total < 1:\n",
    "                increment = numpy.random.choice(numpy.arange(0.005, 0.025, 0.005), p=[0.25, 0.25, 0.25, 0.25])\n",
    "                # Make sure that the gap isn't smaller than the smallest increment\n",
    "                if (1 - total) < 0.005:\n",
    "                    MED_adjusted_DIV_abundances.append(('{}_Unk_{}'.format(self.list_of_ITS2_type_objects[i].name, seqNameCounter), 1 - total))\n",
    "                    seqNameCounter += 1\n",
    "                    total += 1 - total\n",
    "                \n",
    "                elif total + increment <= 1:  # Then the increment is a good size, add\n",
    "                    MED_adjusted_DIV_abundances.append(('{}_Unk_{}'.format(self.list_of_ITS2_type_objects[i].name, seqNameCounter), increment))\n",
    "                    seqNameCounter += 1\n",
    "                    total += increment\n",
    "            \n",
    "            # Here we have a full tup list of seq to adjusted_for_MED_rel_abundance\n",
    "            # We can now convert these to absolute abundances\n",
    "            raw_seq_absolute_abundances = []\n",
    "            for seq_name, rel_abund in MED_adjusted_DIV_abundances:\n",
    "                absolute_abundance_of_seq = rel_abund * self.sequencing_depth * self.type_abundance_dict[self.list_of_ITS2_type_objects[i].name]\n",
    "                raw_seq_absolute_abundances.append((seq_name, absolute_abundance_of_seq))\n",
    "            self.list_of_ITS2_type_objects[i].post_qc_abs_aundances = {seq_name: seq_abund for seq_name, seq_abund in raw_seq_absolute_abundances}\n"
   ]
  },
  {
   "cell_type": "markdown",
   "metadata": {},
   "source": [
    "__virtual_ITS2_type_profile__"
   ]
  },
  {
   "cell_type": "code",
   "execution_count": 4,
   "metadata": {},
   "outputs": [],
   "source": [
    "class virtual_ITS2_type_profile():\n",
    "    # This will be a virutal type profile\n",
    "    # when we are generating samples we will define what percentage of which type we wish to have in the sample\n",
    "    # The actual sequence abundances will be generated for each of the types in this class. The sequences\n",
    "    # will be generated on a mean and standard deviation basis.\n",
    "    def __init__(self, typeName):\n",
    "        self.name = typeName\n",
    "        self.seqs, self.means = self.getSeqList()\n",
    "        self.seq_abund_profile = self.generate_relative_abundances_of_type_sequences()\n",
    "        self.clade = self.seqs[0][0]\n",
    "        # lists of tuples where each tuple is the name of the sequence with its absolute abundance\n",
    "        self.raw_seq_abs_abundances  = {}\n",
    "        self.post_qc_abs_aundances = {}\n",
    "\n",
    "    def __str__(self):\n",
    "        return self.name\n",
    "\n",
    "    def getSeqList(self):\n",
    "        # CLADE A types\n",
    "        # For each type have the list of DIV names and the average DIV abundances\n",
    "        if self.name =='A1-A1aw':\n",
    "            return (['A1', 'A1aw'], [0.45, 0.25])\n",
    "        elif self.name == 'A1-A1av-A1ax':\n",
    "            return (['A1', 'A1av', 'A1ax'], [0.4, 0.25, 0.1])\n",
    "        # Clade C types\n",
    "        elif self.name == 'C15-C15x':\n",
    "            return (['C15', 'C15x'], [0.5, 0.2])\n",
    "        elif self.name == 'C15-C15e':\n",
    "            return (['C15', 'C15e'], [0.4, 0.25])\n",
    "        elif self.name == 'C15-C115c':\n",
    "            return (['C15', 'C115c'], [0.45, 0.2])\n",
    "        elif self.name == 'C1-C1c-C1d':\n",
    "            return (['C1', 'C1c', 'C1d'], [0.3, 0.25, 0.2])\n",
    "        elif self.name == 'C1-C1cc':\n",
    "            return (['C1', 'C1cc', 'C1cd', 'C1ce'], [0.6, 0.07, 0.05, 0.05])\n",
    "        elif self.name == 'C1-C1ab-C1e':\n",
    "            return (['C1', 'C1ab', 'C1e'], [0.4, 0.2, 0.18])\n",
    "        elif self.name == 'C3-C3a-C3ab':\n",
    "            return (['C3', 'C3a', 'C3ab'], [0.3, 0.28, 0.18])\n",
    "        elif self.name == 'C3-C21':\n",
    "            return (['C3', 'C21'], [0.35, 0.28])\n",
    "        elif self.name == 'C3-C3c-C3cc':\n",
    "            return (['C3', 'C3c', 'C3cc'], [0.3, 0.25, 0.15])\n",
    "        # Clade D types\n",
    "        elif self.name == 'D1-D4-D6':\n",
    "            return (['D1', 'D4', 'D6'], [0.25, 0.25, 0.15])\n",
    "\n",
    "    def generate_relative_abundances_of_type_sequences(self):\n",
    "        '''Generate a tuple list that is sequence to relative proportion\n",
    "        where sequenes are defined by those present in self. seqs which is a list\n",
    "        the relative proportions will be generated according to a normal distribution around\n",
    "        the means given in self.means with a fixed standard deviation of the mean (0.1)'''\n",
    "\n",
    "        # make sure that the named sequences don't make up more than 90% of the sequences\n",
    "\n",
    "        list_of_random_proportions = []\n",
    "        while 1:\n",
    "            list_of_random_proportions = []\n",
    "            for seq, abund in zip(self.seqs, self.means):\n",
    "                # Generate the named seqs first and then generate the unknown seqs\n",
    "                # Consider that the named seqs must be present, so if a negative value is generated, then run again\n",
    "                while 1:\n",
    "                    temp = random.gauss(abund, 0.01)\n",
    "                    if temp > 0:\n",
    "                        list_of_random_proportions.append(temp)\n",
    "                        break\n",
    "            if sum(list_of_random_proportions) < 0.9:\n",
    "                break\n",
    "\n",
    "        # I want to have three different gradients for creating the unknown sequences\n",
    "        # I will have one third of the unknown proportion generated with bigger, one same, one less\n",
    "        # Now generate the unknown seqs\n",
    "        total = sum(list_of_random_proportions)\n",
    "        seqNameCounter = 0\n",
    "        \n",
    "        total_to_fill_with_unkn = 1 - total\n",
    "        unknown_total = 0\n",
    "        while total < 1:\n",
    "            increment = int()\n",
    "            if unknown_total < total_to_fill_with_unkn * 0.333: # Then do the bigger fills\n",
    "                increment = numpy.random.choice(numpy.arange(0.01, 0.1, 0.01),\n",
    "                                                p=[0.025, 0.025, 0.025, 0.025, 0.1, 0.1, 0.1, 0.2, 0.4])\n",
    "            elif unknown_total > total_to_fill_with_unkn * 0.666: # Then do the smaller fills\n",
    "                increment = numpy.random.choice(numpy.arange(0.0005, 0.005, 0.0005),\n",
    "                                                p=[0.2, 0.2, 0.1, 0.1, 0.1, 0.125, 0.125, 0.025, 0.025])\n",
    "            else: # do the middle fills\n",
    "                increment = numpy.random.choice(numpy.arange(0.001, 0.01, 0.001),\n",
    "                                                p=[0.4, 0.2, 0.1, 0.1, 0.1, 0.025, 0.025, 0.025, 0.025])\n",
    "            # Make sure that the gap isn't smaller than the smallest increment\n",
    "            if (1 - total) < 0.001:\n",
    "                list_of_random_proportions.append((1 - total))\n",
    "                self.seqs.append('{}_Unk_{}'.format(self.name, seqNameCounter))\n",
    "                seqNameCounter += 1\n",
    "                unknown_total += 1 - total\n",
    "            elif total + increment <= 1: # Then the increment is a good size, add\n",
    "                list_of_random_proportions.append(increment)\n",
    "                self.seqs.append('{}_Unk_{}'.format(self.name, seqNameCounter))\n",
    "                seqNameCounter += 1\n",
    "                unknown_total += increment\n",
    "            total = sum(list_of_random_proportions)\n",
    "\n",
    "\n",
    "        relAbundTups = []\n",
    "        for i in range(len(self.seqs)):\n",
    "            relAbundTups.append((self.seqs[i], list_of_random_proportions[i]))\n",
    "\n",
    "        return relAbundTups"
   ]
  },
  {
   "cell_type": "markdown",
   "metadata": {},
   "source": [
    "__Generate a set of 30 virtual samples__"
   ]
  },
  {
   "cell_type": "code",
   "execution_count": 5,
   "metadata": {},
   "outputs": [],
   "source": [
    "def generate_samples():\n",
    "\n",
    "    \n",
    "    # Generate Samples and add to sample_list\n",
    "    sample_list = []\n",
    "    # One A1-A1aw, One C15-C15x\n",
    "    vSamp1 = virtual_sample(\n",
    "        sample_name='vSamp1',\n",
    "        type_abundance_dict={'A1-A1aw' : 0.25, 'C3-C3a-C3ab': 0.5, 'D1-D4-D6' : 0.25},\n",
    "        sequencing_depth=1000)\n",
    "    # One A1-A1aw, One C15-C15x\n",
    "    vSamp2 = virtual_sample(\n",
    "        sample_name='vSamp2',\n",
    "        type_abundance_dict={'C3-C3a-C3ab': 0.85, 'D1-D4-D6' : 0.15},\n",
    "        sequencing_depth=1000)\n",
    "    # One A1-A1aw, One C15-C15x\n",
    "    vSamp3 = virtual_sample(\n",
    "        sample_name='vSamp3',\n",
    "        type_abundance_dict={'A1-A1aw' : 0.4, 'C3-C3a-C3ab': 0.6},\n",
    "        sequencing_depth=1000)\n",
    "    # One A1-A1aw, Two C15-C15x, C3-C3a-C3ab\n",
    "    vSamp4 = virtual_sample(\n",
    "        sample_name='vSamp4',\n",
    "        type_abundance_dict={'C3-C3a-C3ab': 1},\n",
    "        sequencing_depth=1000)\n",
    "    # One A1-A1aw, Two C15-C15x, C3-C3a-C3ab\n",
    "    vSamp5 = virtual_sample(\n",
    "        sample_name='vSamp5',\n",
    "        type_abundance_dict={'C3-C3c-C3cc': 1},\n",
    "        sequencing_depth=1000)\n",
    "    # One A1-A1aw, One C15-C15e\n",
    "    vSamp6 = virtual_sample(\n",
    "        sample_name='vSamp6',\n",
    "        type_abundance_dict={'A1-A1aw' : 0.2, 'C3-C3c-C3cc': 0.8},\n",
    "        sequencing_depth=1000)\n",
    "    # One A1-A1aw, One C15-C15e\n",
    "    vSamp7 = virtual_sample(\n",
    "        sample_name='vSamp7',\n",
    "        type_abundance_dict={'C3-C3c-C3cc': 1},\n",
    "        sequencing_depth=1000)\n",
    "    # One A1-A1aw, One C3-C3a-C3ab\n",
    "    vSamp8 = virtual_sample(\n",
    "        sample_name='vSamp8',\n",
    "        type_abundance_dict={'C3-C3a-C3ab': 1},\n",
    "        sequencing_depth=1000)\n",
    "    # One A1-A1aw, One C3-C3a-C3ab\n",
    "    vSamp9 = virtual_sample(\n",
    "        sample_name='vSamp9',\n",
    "        type_abundance_dict={'C3-C3a-C3ab': 0.8, 'D1-D4-D6' : 0.2},\n",
    "        sequencing_depth=1000)\n",
    "    # One A1-A1av-A1ax, One C3-C3a-C3ab\n",
    "    vSamp10 = virtual_sample(\n",
    "        sample_name='vSamp10',\n",
    "        type_abundance_dict={'A1-A1aw' : 0.4, 'C3-C3a-C3ab': 0.6},\n",
    "        sequencing_depth=1000)\n",
    "    # One A1-A1av-A1ax, One C3-C3a-C3ab\n",
    "    vSamp11 = virtual_sample(\n",
    "        sample_name='vSamp11',\n",
    "        type_abundance_dict={'A1-A1av-A1ax' : 1},\n",
    "        sequencing_depth=1000)\n",
    "    # One A1-A1av-A1ax, One C3-C3a-C3ab\n",
    "    vSamp12 = virtual_sample(\n",
    "        sample_name='vSamp12',\n",
    "        type_abundance_dict={'A1-A1av-A1ax' : 1},\n",
    "        sequencing_depth=1000)\n",
    "    # One A1-A1aw, One C15-C115c\n",
    "    vSamp13 = virtual_sample(\n",
    "        sample_name='vSamp13',\n",
    "        type_abundance_dict={'C15-C15x' : 0.4, 'C3-C3a-C3ab': 0.6},\n",
    "        sequencing_depth=1000)\n",
    "    # One A1-A1av-A1ax, One C15-C15x\n",
    "    vSamp14 = virtual_sample(\n",
    "        sample_name='vSamp14',\n",
    "        type_abundance_dict={'C15-C15x': 0.9, 'C3-C3a-C3ab': 0.1},\n",
    "        sequencing_depth=1000)\n",
    "    # One A1-A1aw, Two C1-C2-C4, C3-C3c-C3cc\n",
    "    vSamp15 = virtual_sample(\n",
    "        sample_name='vSamp15',\n",
    "        type_abundance_dict={'C15-C15x' : 1},\n",
    "        sequencing_depth=1000)\n",
    "    # One A1-A1av-A1ax, two C1-C2-C4, C3-C21,\n",
    "    vSamp16 = virtual_sample(\n",
    "        sample_name='vSamp16',\n",
    "        type_abundance_dict={'C1-C1ab-C1e': 1},\n",
    "        sequencing_depth=1000)\n",
    "    # One A1-A1av-A1ax, One C3-C3a-C3ab\n",
    "    vSamp17 = virtual_sample(\n",
    "        sample_name='vSamp17',\n",
    "        type_abundance_dict={'C1-C1ab-C1e': 1},\n",
    "        sequencing_depth=1000)\n",
    "    # One A1-A1av-A1ax, One C1-C1cc\n",
    "    vSamp18 = virtual_sample(\n",
    "        sample_name='vSamp18',\n",
    "        type_abundance_dict={'A1-A1aw': 0.05, 'C1-C1ab-C1e': 0.9, 'D1-D4-D6': 0.05},\n",
    "        sequencing_depth=1000)\n",
    "\n",
    "    vSamp19 = virtual_sample(\n",
    "        sample_name='vSamp19',\n",
    "        type_abundance_dict={'C3-C3a-C3ab': 1},\n",
    "        sequencing_depth=1000)\n",
    "\n",
    "    vSamp20 = virtual_sample(\n",
    "        sample_name='vSamp20',\n",
    "        type_abundance_dict={'A1-A1aw': 0.15, 'C3-C3a-C3ab': 0.85},\n",
    "        sequencing_depth=1000)\n",
    "\n",
    "    vSamp21 = virtual_sample(\n",
    "        sample_name='vSamp21',\n",
    "        type_abundance_dict={'A1-A1aw': 0.2, 'C3-C3a-C3ab': 0.80},\n",
    "        sequencing_depth=1000)\n",
    "\n",
    "    vSamp22 = virtual_sample(\n",
    "        sample_name='vSamp22',\n",
    "        type_abundance_dict={'C15-C15x' : 0.2, 'C3-C3a-C3ab': 0.80},\n",
    "        sequencing_depth=1000)\n",
    "\n",
    "    vSamp23 = virtual_sample(\n",
    "        sample_name='vSamp23',\n",
    "        type_abundance_dict={'C3-C3a-C3ab': 1},\n",
    "        sequencing_depth=1000)\n",
    "\n",
    "    vSamp24 = virtual_sample(\n",
    "        sample_name='vSamp24',\n",
    "        type_abundance_dict={'C3-C3a-C3ab': 1},\n",
    "        sequencing_depth=1000)\n",
    "\n",
    "    vSamp25 = virtual_sample(\n",
    "        sample_name='vSamp25',\n",
    "        type_abundance_dict={'A1-A1aw': 0.3, 'C1-C1ab-C1e': 0.7},\n",
    "        sequencing_depth=1000)\n",
    "\n",
    "    vSamp26 = virtual_sample(\n",
    "        sample_name='vSamp26',\n",
    "        type_abundance_dict={'C3-C3a-C3ab': 1},\n",
    "        sequencing_depth=1000)\n",
    "\n",
    "    vSamp27 = virtual_sample(\n",
    "        sample_name='vSamp27',\n",
    "        type_abundance_dict={'D1-D4-D6': 1},\n",
    "        sequencing_depth=1000)\n",
    "\n",
    "    vSamp28 = virtual_sample(\n",
    "        sample_name='vSamp28',\n",
    "        type_abundance_dict={'A1-A1aw': 0.2, 'C3-C3a-C3ab': 0.8},\n",
    "        sequencing_depth=1000)\n",
    "\n",
    "    vSamp29 = virtual_sample(\n",
    "        sample_name='vSamp29',\n",
    "        type_abundance_dict={'A1-A1av-A1ax': 1},\n",
    "        sequencing_depth=1000)\n",
    "\n",
    "    vSamp30 = virtual_sample(\n",
    "        sample_name='vSamp30',\n",
    "        type_abundance_dict={'C3-C3a-C3ab': 1},\n",
    "        sequencing_depth=1000)\n",
    "\n",
    "    sample_list.extend(\n",
    "        [vSamp1, vSamp2, vSamp3, vSamp4, vSamp5, vSamp6, vSamp7, vSamp8, vSamp9, vSamp10,\n",
    "         vSamp11, vSamp12, vSamp13, vSamp14, vSamp15, vSamp16, vSamp17, vSamp18, vSamp19,\n",
    "         vSamp20, vSamp21, vSamp22, vSamp23, vSamp24, vSamp25, vSamp26, vSamp27, vSamp28,\n",
    "         vSamp29, vSamp30])\n",
    "\n",
    "    return sample_list"
   ]
  },
  {
   "cell_type": "code",
   "execution_count": 6,
   "metadata": {},
   "outputs": [],
   "source": [
    "sample_list = generate_samples()"
   ]
  },
  {
   "cell_type": "markdown",
   "metadata": {},
   "source": [
    "When we do the plotting of the sequences we will want to plot the sequences in order of their abundances.\n",
    "To do this we need to go through the samples that we just generated and __workout the abundance of the sequences__"
   ]
  },
  {
   "cell_type": "code",
   "execution_count": 7,
   "metadata": {},
   "outputs": [],
   "source": [
    "###### GET ORDER OF SEQUENCES FOR PLOTTING ######\n",
    "# Go through each of the samples to get a master abund dict of the sequences to get an order\n",
    "seqAbundDict = defaultdict(float)\n",
    "for sample in sample_list:\n",
    "    for v_type_profile in sample.list_of_ITS2_type_objects:\n",
    "        for seq_name, seq_abs_raw_abund in v_type_profile.raw_seq_abs_abundances.items():\n",
    "            seqAbundDict[seq_name] += seq_abs_raw_abund\n",
    "\n",
    "# Now sort the dict to get list of sequences in order of abundance\n",
    "sortedSeqs = [k for k in sorted(seqAbundDict, key=seqAbundDict.get, reverse=True)]\n",
    "###################################################"
   ]
  },
  {
   "cell_type": "markdown",
   "metadata": {},
   "source": [
    "__Generate the sequence abundances for each sample in a structure suitable for matplotlib input__"
   ]
  },
  {
   "cell_type": "code",
   "execution_count": 8,
   "metadata": {},
   "outputs": [],
   "source": [
    "######### GENERATE AND POPULATE plot_info_dict ########\n",
    "# Now populate a plot_info_dict for doing the plotting\n",
    "plot_info_dict = {seq: [0 for sample in sample_list] for seq in sortedSeqs}\n",
    "for sample in sample_list:\n",
    "    for seq in plot_info_dict.keys():\n",
    "        for v_type_profile in sample.list_of_ITS2_type_objects:\n",
    "        # Here we are populating a given samples worth of the plot_info_dict\n",
    "        # we only want to populate according to what is in the sample\n",
    "         # for each of the seqs we need to populate info for\n",
    "            if seq in v_type_profile.raw_seq_abs_abundances:\n",
    "                plot_info_dict[seq][sample_list.index(sample)] = v_type_profile.raw_seq_abs_abundances[seq]\n",
    "\n",
    "######################################################"
   ]
  },
  {
   "cell_type": "markdown",
   "metadata": {},
   "source": [
    "__Colour palettes for the plotting__"
   ]
  },
  {
   "cell_type": "code",
   "execution_count": 9,
   "metadata": {},
   "outputs": [],
   "source": [
    "######### GENERATE COLOUR PALETTES ########\n",
    "# Now we have the info ready to be plotted\n",
    "# Colour palettes\n",
    "clade_palette = {'C': '#F9ED32', 'A': '#4BAADF', 'D': '#6D6E71'}\n",
    "c_palette = ['#F9ED32', '#BC802B', '#836126', '#F89B58', '#FBAC1F', '#F58E82', '#F15F48', '#EE2F24', '#A52022',\n",
    "             '#F09B20',\n",
    "             '#F9F292', '#F9EE49', '#E7E621', '#AAB036']\n",
    "a_palette = ['#4BAADF', '#A8D598', '#9AD5C5', '#75CBC8', '#7CC243', '#21B24B', '#0A7B3E', '#5CC7D4',\n",
    "             '#00A6C5', '#0066AB', '#236FB7', '#2A3588', '#645EA9', '#895DA6']\n",
    "\n",
    "colourPalette = ['#E8AB52', '#5FA96E', '#9680D3', '#D8C542', '#D47070', '#59A6D4', '#D76FBC', '#F6724C',\n",
    "                 '#5FC2B6', '#80D1E4', '#6BD78A', '#B7D456']\n",
    "greyPalette = ['#D0CFD4', '#89888D', '#4A4A4C', '#8A8C82', '#D4D5D0', '#53544F']\n",
    "grey_palette_two = ['#4C4C4C', '#666666', '#7F7F7F', '#999999', '#B2B2B2', '#CCCCCC', '#E5E5E5']\n",
    "###########################################"
   ]
  },
  {
   "cell_type": "markdown",
   "metadata": {},
   "source": [
    "#### Raw data plots"
   ]
  },
  {
   "cell_type": "code",
   "execution_count": 10,
   "metadata": {},
   "outputs": [],
   "source": [
    "%matplotlib inline"
   ]
  },
  {
   "cell_type": "code",
   "execution_count": 11,
   "metadata": {},
   "outputs": [
    {
     "name": "stdout",
     "output_type": "stream",
     "text": [
      "/Users/humebc/Google Drive/projects/SymPortal/SymPortalMS/figures/jupyter_notebook/sp_ms_figure_creation\n"
     ]
    },
    {
     "data": {
      "image/png": "[encoded data removed]",
      "text/plain": [
       "<Figure size 640x800 with 1 Axes>"
      ]
     },
     "metadata": {},
     "output_type": "display_data"
    }
   ],
   "source": [
    "######### GENERATE CLADAL PLOT ########\n",
    "# First plot the clades with the simple colouring\n",
    "# Set up plot\n",
    "bob = plt.figure(num=1, figsize=(8, 10), dpi=80)\n",
    "ax = plt.subplot(1, 1, 1)\n",
    "ax.set_ylim(bottom=0, top=1000)\n",
    "ind = range(len(sample_list))\n",
    "width = 1\n",
    "\n",
    "# Now plot\n",
    "# We have to plot in order of clade A, C then D first\n",
    "bottom = [0 for sample in sample_list]\n",
    "colourCounter = 0\n",
    "totSeqs = len(sortedSeqs)\n",
    "for clade in ['A', 'C', 'D']:\n",
    "    for seq in sortedSeqs:\n",
    "        if clade in seq:\n",
    "            print('Printing {} out of {} bars'.format(colourCounter, totSeqs), end=\"\\r\")\n",
    "            ax.bar(ind, plot_info_dict[seq], width, bottom=bottom, color=grey_palette_two[colourCounter % 7])\n",
    "            bottom = [L + M for L, M in zip(bottom, plot_info_dict[seq])]\n",
    "            colourCounter += 1\n",
    "            #######################################\n",
    "\n",
    "# Here we should have the first set of bars plotted\n",
    "print(str(os.getcwd()))\n",
    "plt.show(bob)"
   ]
  },
  {
   "cell_type": "markdown",
   "metadata": {},
   "source": [
    "***"
   ]
  },
  {
   "cell_type": "markdown",
   "metadata": {},
   "source": [
    "#### Clade separated raw plots\n",
    "\n",
    "__Generate the info dict for plotting__"
   ]
  },
  {
   "cell_type": "code",
   "execution_count": 12,
   "metadata": {},
   "outputs": [
    {
     "name": "stdout",
     "output_type": "stream",
     "text": [
      "Printing 177 out of 178 bars\r"
     ]
    },
    {
     "data": {
      "image/png": "[encoded data removed]",
      "text/plain": [
       "<Figure size 640x800 with 1 Axes>"
      ]
     },
     "metadata": {},
     "output_type": "display_data"
    },
    {
     "name": "stdout",
     "output_type": "stream",
     "text": [
      "Printing 336 out of 337 bars\r"
     ]
    },
    {
     "data": {
      "image/png": "[encoded data removed]",
      "text/plain": [
       "<Figure size 640x800 with 1 Axes>"
      ]
     },
     "metadata": {},
     "output_type": "display_data"
    },
    {
     "name": "stdout",
     "output_type": "stream",
     "text": [
      "Printing 117 out of 118 bars\r"
     ]
    },
    {
     "data": {
      "image/png": "[encoded data removed]",
      "text/plain": [
       "<Figure size 640x800 with 1 Axes>"
      ]
     },
     "metadata": {},
     "output_type": "display_data"
    }
   ],
   "source": [
    "######### CLADAL SEPARATED RAW PLOTS ##############\n",
    "# Now do the next three plots which will be the cladaly separated raw\n",
    "for clade in ['A', 'C', 'D']:\n",
    "\n",
    "    # Now sort the dict to get list of sequences in order of abundance\n",
    "    sortedSeqs_clade = [seq_name for seq_name in sortedSeqs if clade in seq_name]\n",
    "    ###################################################\n",
    "\n",
    "    ######### GENERATE AND POPULATE plot_info_dict ########\n",
    "    # Now populate a plot_info_dict for doing the plotting\n",
    "    plot_info_dict = {seq: [0 for sample in sample_list] for seq in sortedSeqs_clade}\n",
    "    for sample in sample_list:\n",
    "        # Here we need to work out the total rel abundances of types of the clade_in_question\n",
    "        total_raw_seqs_in_samples_type = sum([type_abundance for type_name, type_abundance in sample.type_abundance_dict.items() if clade in type_name])\n",
    "        for seq in plot_info_dict.keys():\n",
    "            for v_type_profile in sample.list_of_ITS2_type_objects:\n",
    "                # Here we are populating a given samples worth of the plot_info_dict\n",
    "                # we want to be sure to still normalise to 1 or 1000 in this case\n",
    "                if seq in v_type_profile.raw_seq_abs_abundances:\n",
    "                    plot_info_dict[seq][sample_list.index(sample)] = sample.sequencing_depth * ((v_type_profile.raw_seq_abs_abundances[seq] / sample.sequencing_depth) / total_raw_seqs_in_samples_type)\n",
    "\n",
    "    # Here we should be ready to plot the info for the second set of plots\n",
    "                ######## GENERATE CLADAL PLOT ########\n",
    "    # First plot the clades with the simple colouring\n",
    "    # Set up plot\n",
    "    bob = plt.figure(num=1, figsize=(8, 10), dpi=80)\n",
    "    ax = plt.subplot(1, 1, 1)\n",
    "    ax.set_ylim(bottom=0, top=1000)\n",
    "    ind = range(len(sample_list))\n",
    "    width = 1\n",
    "\n",
    "    # Now plot\n",
    "    # We have to plot in order of clade A, C then D first\n",
    "    bottom = [0 for sample in sample_list]\n",
    "    colourCounter = 0\n",
    "    totSeqs = len(sortedSeqs_clade)\n",
    "    for seq in sortedSeqs_clade:\n",
    "        print('Printing {} out of {} bars'.format(colourCounter, totSeqs), end=\"\\r\")\n",
    "        ax.bar(ind, plot_info_dict[seq], width, bottom=bottom,\n",
    "               color=grey_palette_two[colourCounter % 7])\n",
    "        bottom = [L + M for L, M in zip(bottom, plot_info_dict[seq])]\n",
    "        colourCounter += 1\n",
    "\n",
    "    # Here we should have the first set of bars plotted\n",
    "    # print(str(os.getcwd()))\n",
    "    plt.show(bob)\n",
    "    # plt.savefig('fig3_raw_{}.svg'.format(clade), format=\"svg\")\n",
    "\n",
    "#     plt.close(bob)\n",
    "#######################################"
   ]
  },
  {
   "cell_type": "markdown",
   "metadata": {},
   "source": [
    "***"
   ]
  },
  {
   "cell_type": "markdown",
   "metadata": {},
   "source": [
    "#### Post QC plots"
   ]
  },
  {
   "cell_type": "code",
   "execution_count": 13,
   "metadata": {},
   "outputs": [
    {
     "name": "stdout",
     "output_type": "stream",
     "text": [
      "/Users/humebc/Google Drive/projects/SymPortal/SymPortalMS/figures/jupyter_notebook/sp_ms_figure_creation\n"
     ]
    },
    {
     "data": {
      "image/png": "[encoded data removed]",
      "text/plain": [
       "<Figure size 640x800 with 1 Axes>"
      ]
     },
     "metadata": {},
     "output_type": "display_data"
    },
    {
     "name": "stdout",
     "output_type": "stream",
     "text": [
      "/Users/humebc/Google Drive/projects/SymPortal/SymPortalMS/figures/jupyter_notebook/sp_ms_figure_creation\n"
     ]
    },
    {
     "data": {
      "image/png": "[encoded data removed]",
      "text/plain": [
       "<Figure size 640x800 with 1 Axes>"
      ]
     },
     "metadata": {},
     "output_type": "display_data"
    },
    {
     "name": "stdout",
     "output_type": "stream",
     "text": [
      "Printing 0 out of 13 bars\r",
      "Printing 0 out of 13 bars\r",
      "Printing 0 out of 13 bars\r",
      "Printing 0 out of 13 bars\r",
      "Printing 1 out of 13 bars\r",
      "Printing 2 out of 13 bars\r",
      "Printing 3 out of 13 bars\r",
      "Printing 4 out of 13 bars\r",
      "Printing 5 out of 13 bars\r",
      "Printing 6 out of 13 bars\r",
      "Printing 7 out of 13 bars\r",
      "Printing 8 out of 13 bars\r",
      "Printing 9 out of 13 bars\r",
      "/Users/humebc/Google Drive/projects/SymPortal/SymPortalMS/figures/jupyter_notebook/sp_ms_figure_creation\n"
     ]
    },
    {
     "data": {
      "image/png": "[encoded data removed]",
      "text/plain": [
       "<Figure size 640x800 with 1 Axes>"
      ]
     },
     "metadata": {},
     "output_type": "display_data"
    }
   ],
   "source": [
    "###### DIV PLOTS ############\n",
    "# These plots ae in theory exactly the same plots as the cladally separated plots\n",
    "# except that they have gone through MED and they now have the DIVs coloured\n",
    "# while the non-DIV sequences remain grey\n",
    "# We can re-use a lot of the code above.\n",
    "# we should first get a list of sequences by order of abundance from the\n",
    "# post-qc and MEDed sequence dictionaries\n",
    "\n",
    "DIV_palette = {'A1': '#332288', 'A1aw':'#6699CC', 'A1av':'#88CCEE', 'A1ax':'#44AA99', 'C15':'#64C204', 'C15x':'#117733', 'C3':'#999933', 'C3a':'#FEC44F', 'C3ab':'#EC7014', 'C3c':'#993404', 'C3cc':'#DDCC77', 'C1':'#661100', 'C1ab':'#FF6666', 'C1e':'#CC6677', 'D1':'#AA4466', 'D4':'#882255', 'D6':'#AA4499'}\n",
    "\n",
    "###### GET ORDER OF SEQUENCES FOR PLOTTING ######\n",
    "# Go through each of the samples to get a master abund dict of the sequences to get an order\n",
    "seqAbundDict = defaultdict(float)\n",
    "for sample in sample_list:\n",
    "    for v_type_profile in sample.list_of_ITS2_type_objects:\n",
    "        for seq_name, seq_abs_qc_MED_abund in v_type_profile.post_qc_abs_aundances.items():\n",
    "            seqAbundDict[seq_name] += seq_abs_qc_MED_abund\n",
    "\n",
    "# Now sort the dict to get list of sequences in order of abundance\n",
    "sortedSeqs = [k for k in sorted(seqAbundDict, key=seqAbundDict.get, reverse=True)]\n",
    "\n",
    "# Now do the next three plots which will be the cladaly separated raw\n",
    "for clade in ['A', 'C', 'D']:\n",
    "\n",
    "    # Now sort the dict to get list of sequences in order of abundance\n",
    "    sortedSeqs_clade = [seq_name for seq_name in sortedSeqs if clade in seq_name]\n",
    "    ###################################################\n",
    "\n",
    "    ######### GENERATE AND POPULATE plot_info_dict ########\n",
    "    # Now populate a plot_info_dict for doing the plotting\n",
    "    plot_info_dict = {seq: [0 for sample in sample_list] for seq in sortedSeqs_clade}\n",
    "    for sample in sample_list:\n",
    "        total_post_qc_MED_seqs_in_samples_type = sum([type_abund for type_name, type_abund in sample.type_abundance_dict.items() if clade in type_name])\n",
    "        for seq in plot_info_dict.keys():\n",
    "            for v_type_profile in sample.list_of_ITS2_type_objects:\n",
    "            # Here we are populating a given samples worth of the plot_info_dict\n",
    "            # we want to be sure to still normalise to 1 or 1000 in this case\n",
    "                if seq in v_type_profile.post_qc_abs_aundances:\n",
    "                    plot_info_dict[seq][sample_list.index(sample)] = sample.sequencing_depth * ((v_type_profile.post_qc_abs_aundances[seq] / sample.sequencing_depth) / total_post_qc_MED_seqs_in_samples_type)\n",
    "\n",
    "    # Here we should be ready to plot the info for the second set of plots\n",
    "    ######### GENERATE CLADAL PLOT ########\n",
    "    # First plot the clades with the simple colouring\n",
    "    # Set up plot\n",
    "    bob = plt.figure(num=1, figsize=(8, 10), dpi=80)\n",
    "    ax = plt.subplot(1, 1, 1)\n",
    "    ax.set_ylim(bottom=0, top=1000)\n",
    "    ind = range(len(sample_list))\n",
    "    width = 1\n",
    "\n",
    "    # Now plot\n",
    "    # We have to plot in order of clade A, C then D first\n",
    "    bottom = [0 for sample in sample_list]\n",
    "    colourCounter = 0\n",
    "    totSeqs = len(sortedSeqs_clade)\n",
    "    for seq in sortedSeqs_clade:\n",
    "        print('Printing {} out of {} bars'.format(colourCounter, totSeqs), end=\"\\r\")\n",
    "        # If non-Div use grey palette else use the DIV palette\n",
    "        if 'Unk' in seq:\n",
    "            ax.bar(ind, plot_info_dict[seq], width, bottom=bottom,\n",
    "                   color=grey_palette_two[colourCounter % 7])\n",
    "\n",
    "            colourCounter += 1\n",
    "        else:\n",
    "            ax.bar(ind, plot_info_dict[seq], width, bottom=bottom,\n",
    "                   color=DIV_palette[seq])\n",
    "        bottom = [L + M for L, M in zip(bottom, plot_info_dict[seq])]\n",
    "    # Here we should have the first set of bars plotted\n",
    "    print(str(os.getcwd()))\n",
    "\n",
    "    plt.show(bob)\n",
    "    # plt.savefig('fig3_MED_post_qc_{}.svg'.format(clade), format=\"svg\")\n",
    "\n",
    "#     plt.close(bob)\n",
    "\n",
    "###################################################"
   ]
  },
  {
   "cell_type": "markdown",
   "metadata": {},
   "source": [
    "***"
   ]
  },
  {
   "cell_type": "markdown",
   "metadata": {},
   "source": [
    "#### ITS2 type profile plots clade separated"
   ]
  },
  {
   "cell_type": "code",
   "execution_count": 14,
   "metadata": {},
   "outputs": [
    {
     "name": "stdout",
     "output_type": "stream",
     "text": [
      "/Users/humebc/Google Drive/projects/SymPortal/SymPortalMS/figures/jupyter_notebook/sp_ms_figure_creation\n"
     ]
    },
    {
     "data": {
      "image/png": "[encoded data removed]",
      "text/plain": [
       "<Figure size 640x800 with 1 Axes>"
      ]
     },
     "metadata": {},
     "output_type": "display_data"
    },
    {
     "name": "stdout",
     "output_type": "stream",
     "text": [
      "/Users/humebc/Google Drive/projects/SymPortal/SymPortalMS/figures/jupyter_notebook/sp_ms_figure_creation\n"
     ]
    },
    {
     "data": {
      "image/png": "[encoded data removed]",
      "text/plain": [
       "<Figure size 640x800 with 1 Axes>"
      ]
     },
     "metadata": {},
     "output_type": "display_data"
    },
    {
     "name": "stdout",
     "output_type": "stream",
     "text": [
      "/Users/humebc/Google Drive/projects/SymPortal/SymPortalMS/figures/jupyter_notebook/sp_ms_figure_creation\n"
     ]
    },
    {
     "data": {
      "image/png": "[encoded data removed]",
      "text/plain": [
       "<Figure size 640x800 with 1 Axes>"
      ]
     },
     "metadata": {},
     "output_type": "display_data"
    }
   ],
   "source": [
    "######## Clade separated type profile plots ########\n",
    "# Here we will want to go clade by clade again\n",
    "# then sample by sample\n",
    "\n",
    "type_palette = {'A1-A1aw': '#332288', 'A1-A1av-A1ax': '#6699CC', 'C15-C15x': '#88CCEE',\n",
    "                'C3-C3a-C3ab': '#44AA99', 'C3-C3c-C3cc': '#64C204',\n",
    "               'C1-C1ab-C1e': '#117733', 'D1-D4-D6': '#999933'}\n",
    "\n",
    "for clade in ['A', 'C', 'D']:\n",
    "    # Get a list of all of the type names of the given clade\n",
    "    # so that we can make a plot_info_dict\n",
    "    types_rel_abundances_dict = defaultdict(float)\n",
    "    for sample in sample_list:\n",
    "        for type_name, type_rel_abund in sample.type_abundance_dict.items():\n",
    "            if clade in type_name:\n",
    "                types_rel_abundances_dict[type_name] += type_rel_abund\n",
    "\n",
    "    sorted_types = [k for k in sorted(types_rel_abundances_dict, key=types_rel_abundances_dict.get, reverse=True)]\n",
    "    soreted_seqs_types = [type_name for type_name in sorted_types if clade in type_name]\n",
    "    # Here we have the names of the types that are found in all of the samples\n",
    "    # now go back through and populate a plot_info_dict\n",
    "    plot_info_dict_type = {type_name: [0 for samples in sample_list] for type_name in soreted_seqs_types}\n",
    "    for sample in sample_list:\n",
    "        # Here need to get the total rel abundances of type of the given clade found in the sample\n",
    "        rel_abund_total_for_types_of_the_given_clade_within_this_sample = 0\n",
    "        for type_profile in sample.list_of_ITS2_type_objects:\n",
    "            if type_profile.clade == clade:\n",
    "                rel_abund_total_for_types_of_the_given_clade_within_this_sample += sample.type_abundance_dict[type_profile.name]\n",
    "\n",
    "        for type_profile_name in plot_info_dict_type.keys():\n",
    "            if type_profile_name in sample.type_abundance_dict:\n",
    "                # we must remember to normalise the type abundances here.We know the total of the rel abundances\n",
    "                # of the types of the clade in quesiton in the sequecnes in question so we will use this\n",
    "                plot_info_dict_type[type_profile_name][sample_list.index(sample)] = sample.sequencing_depth * (sample.type_abundance_dict[type_profile_name] / rel_abund_total_for_types_of_the_given_clade_within_this_sample)\n",
    "\n",
    "    # Here we have the plot_info_dict populated with some very simple data which is the type abundance\n",
    "    bob = plt.figure(num=1, figsize=(8, 10), dpi=80)\n",
    "    ax = plt.subplot(1, 1, 1)\n",
    "    ax.set_ylim(bottom=0, top=1000)\n",
    "    ind = range(len(sample_list))\n",
    "    width = 1\n",
    "\n",
    "    # Now plot\n",
    "    # We have to plot in order of clade A, C then D first\n",
    "    bottom = [0 for sample in sample_list]\n",
    "\n",
    "\n",
    "    for type_name in soreted_seqs_types:\n",
    "\n",
    "        # If non-Div use grey palette else use the DIV palette\n",
    "\n",
    "\n",
    "        ax.bar(ind, plot_info_dict_type[type_name], width, bottom=bottom, color=type_palette[type_name])\n",
    "        bottom = [L + M for L, M in zip(bottom, plot_info_dict_type[type_name])]\n",
    "    # Here we should have the first set of bars plotted\n",
    "    print(str(os.getcwd()))\n",
    "\n",
    "    # plt.show()\n",
    "#     plt.savefig('fig3_ITS2_type_profile_{}.svg'.format(clade), format=\"svg\")\n",
    "    plt.show(bob)\n",
    "#     plt.close(bob)"
   ]
  },
  {
   "cell_type": "markdown",
   "metadata": {},
   "source": [
    "***"
   ]
  },
  {
   "cell_type": "markdown",
   "metadata": {},
   "source": [
    "#### Final plot of clade combined ITS2 type profiles"
   ]
  },
  {
   "cell_type": "code",
   "execution_count": 15,
   "metadata": {},
   "outputs": [
    {
     "name": "stdout",
     "output_type": "stream",
     "text": [
      "/Users/humebc/Google Drive/projects/SymPortal/SymPortalMS/figures/jupyter_notebook/sp_ms_figure_creation\n"
     ]
    },
    {
     "data": {
      "image/png": "[encoded data removed]",
      "text/plain": [
       "<Figure size 640x800 with 1 Axes>"
      ]
     },
     "metadata": {},
     "output_type": "display_data"
    }
   ],
   "source": [
    "######## Final plot #######\n",
    "# this plot should be the re-combined type plots.\n",
    "# we should be able to borrow heavily from above and simply not separate by clade\n",
    "\n",
    "    ######## Clade separated type profile plots ########\n",
    "    # Here we will want to go clade by clade again\n",
    "    # then sample by sample\n",
    "\n",
    "type_palette = {'A1-A1aw': '#332288', 'A1-A1av-A1ax': '#6699CC', 'C15-C15x': '#88CCEE',\n",
    "                'C3-C3a-C3ab': '#44AA99', 'C3-C3c-C3cc': '#64C204',\n",
    "                'C1-C1ab-C1e': '#117733', 'D1-D4-D6': '#999933'}\n",
    "\n",
    "\n",
    "# Get a list of all of the type names of the given clade\n",
    "# so that we can make a plot_info_dict\n",
    "types_rel_abundances_dict = defaultdict(float)\n",
    "for sample in sample_list:\n",
    "    for type_name, type_rel_abund in sample.type_abundance_dict.items():\n",
    "        types_rel_abundances_dict[type_name] += type_rel_abund\n",
    "\n",
    "sorted_types = [k for k in\n",
    "                sorted(types_rel_abundances_dict, key=types_rel_abundances_dict.get, reverse=True)]\n",
    "\n",
    "# Here we have the names of the types that are found in all of the samples\n",
    "# now go back through and populate a plot_info_dict\n",
    "plot_info_dict_type = {type_name: [0 for samples in sample_list] for type_name in sorted_types}\n",
    "for sample in sample_list:\n",
    "    for type_profile_name in plot_info_dict_type.keys():\n",
    "        if type_profile_name in sample.type_abundance_dict:\n",
    "            # we must remember to normalise the type abundances here.We know the total of the rel abundances\n",
    "            # of the types of the clade in quesiton in the sequecnes in question so we will use this\n",
    "            plot_info_dict_type[type_profile_name][sample_list.index(sample)] = \\\n",
    "                sample.sequencing_depth * sample.type_abundance_dict[type_profile_name]\n",
    "\n",
    "# Here we have the plot_info_dict populated with some very simple data which is the type abundance\n",
    "bob = plt.figure(num=1, figsize=(8, 10), dpi=80)\n",
    "ax = plt.subplot(1, 1, 1)\n",
    "ax.set_ylim(bottom=0, top=1000)\n",
    "ind = range(len(sample_list))\n",
    "width = 1\n",
    "\n",
    "# We should plot this in the same order as the original raw data was plotted\n",
    "# in terms of clade so that it has exactly the same shape.\n",
    "bottom = [0 for sample in sample_list]\n",
    "for clade in ['A', 'C', 'D']:\n",
    "\n",
    "    # Now plot\n",
    "    # We have to plot in order of clade A, C then D first\n",
    "\n",
    "\n",
    "    for type_name in sorted_types:\n",
    "        # If non-Div use grey palette else use the DIV palette\n",
    "        if clade in type_name:\n",
    "\n",
    "            ax.bar(ind, plot_info_dict_type[type_name], width, bottom=bottom, color=type_palette[type_name])\n",
    "            bottom = [L + M for L, M in zip(bottom, plot_info_dict_type[type_name])]\n",
    "    # Here we should have the first set of bars plotted\n",
    "print(str(os.getcwd()))\n",
    "\n",
    "\n",
    "# plt.savefig('fig3_ITS2_type_profile_final.svg', format=\"svg\")\n",
    "plt.show(bob)\n",
    "# plt.close(bob)"
   ]
  }
 ],
 "metadata": {
  "kernelspec": {
   "display_name": "Python 3",
   "language": "python",
   "name": "python3"
  },
  "language_info": {
   "codemirror_mode": {
    "name": "ipython",
    "version": 3
   },
   "file_extension": ".py",
   "mimetype": "text/x-python",
   "name": "python",
   "nbconvert_exporter": "python",
   "pygments_lexer": "ipython3",
   "version": "3.6.2"
  }
 },
 "nbformat": 4,
 "nbformat_minor": 2
}
